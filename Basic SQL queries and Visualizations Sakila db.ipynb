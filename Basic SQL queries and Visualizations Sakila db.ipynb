{
 "cells": [
  {
   "cell_type": "markdown",
   "id": "7a75ae58",
   "metadata": {
    "papermill": {
     "duration": 0.013757,
     "end_time": "2023-12-21T11:48:53.011988",
     "exception": false,
     "start_time": "2023-12-21T11:48:52.998231",
     "status": "completed"
    },
    "tags": []
   },
   "source": [
    "# Introduction\n",
    "\n",
    "Embarking on a journey to understand the basics of SQL, this project revolves around analyzing the data of a DVD rental store. By diving into various facets of the store's operations, the project serves as a practical application of SQL queries and data analysis techniques. The goal is to develop a foundational understanding of SQL while extracting meaningful insights from real-world data.\n",
    "\n",
    "For my analysis, I will respond to the following questions:\n",
    "\n",
    "1. What is the proportion of films in each rating category (G, PG, PG-13, R, etc.) in our inventory?\n",
    "2. Which film categories are most frequently rented by customers?\n",
    "3. What is the average rental duration for each film category?\n",
    "4. What are the trends in monthly rental revenue and sales for the past year?\n",
    "5. How does the sales performance compare among different store locations?\n",
    "6. What are the average film replacement costs across different genres?\n",
    "7. Which actors appear in the most diverse range of movie genres?\n",
    "\n",
    "By addressing these questions, I aim to practice and enhance my SQL skills, making the learning process both engaging and relevant to real-world scenarios."
   ]
  },
  {
   "cell_type": "markdown",
   "id": "5a990811",
   "metadata": {
    "papermill": {
     "duration": 0.011824,
     "end_time": "2023-12-21T11:48:53.036143",
     "exception": false,
     "start_time": "2023-12-21T11:48:53.024319",
     "status": "completed"
    },
    "tags": []
   },
   "source": [
    "# Analysis"
   ]
  },
  {
   "cell_type": "code",
   "execution_count": 1,
   "id": "f59c6027",
   "metadata": {
    "execution": {
     "iopub.execute_input": "2023-12-21T11:48:53.061746Z",
     "iopub.status.busy": "2023-12-21T11:48:53.061007Z",
     "iopub.status.idle": "2023-12-21T11:48:55.753501Z",
     "shell.execute_reply": "2023-12-21T11:48:55.752504Z"
    },
    "papermill": {
     "duration": 2.708241,
     "end_time": "2023-12-21T11:48:55.756195",
     "exception": false,
     "start_time": "2023-12-21T11:48:53.047954",
     "status": "completed"
    },
    "tags": []
   },
   "outputs": [],
   "source": [
    "import numpy as np\n",
    "import pandas as pd\n",
    "import sqlite3\n",
    "import matplotlib.pyplot as plt\n",
    "import seaborn as sns\n",
    "import plotly.express as px"
   ]
  },
  {
   "cell_type": "code",
   "execution_count": 2,
   "id": "1114b6b4",
   "metadata": {
    "execution": {
     "iopub.execute_input": "2023-12-21T11:48:55.781831Z",
     "iopub.status.busy": "2023-12-21T11:48:55.780919Z",
     "iopub.status.idle": "2023-12-21T11:48:55.786131Z",
     "shell.execute_reply": "2023-12-21T11:48:55.784990Z"
    },
    "papermill": {
     "duration": 0.020464,
     "end_time": "2023-12-21T11:48:55.788505",
     "exception": false,
     "start_time": "2023-12-21T11:48:55.768041",
     "status": "completed"
    },
    "tags": []
   },
   "outputs": [],
   "source": [
    "pd.options.display.max_rows = 40\n",
    "pd.options.display.max_columns = None"
   ]
  },
  {
   "cell_type": "code",
   "execution_count": 3,
   "id": "5cfc95fa",
   "metadata": {
    "execution": {
     "iopub.execute_input": "2023-12-21T11:48:55.814031Z",
     "iopub.status.busy": "2023-12-21T11:48:55.813605Z",
     "iopub.status.idle": "2023-12-21T11:48:55.817934Z",
     "shell.execute_reply": "2023-12-21T11:48:55.816931Z"
    },
    "papermill": {
     "duration": 0.019862,
     "end_time": "2023-12-21T11:48:55.820222",
     "exception": false,
     "start_time": "2023-12-21T11:48:55.800360",
     "status": "completed"
    },
    "tags": []
   },
   "outputs": [],
   "source": [
    "db_path = \"/kaggle/input/sqlite-sakila-sample-database/sqlite-sakila.db\""
   ]
  },
  {
   "cell_type": "code",
   "execution_count": 4,
   "id": "6c7aa1a1",
   "metadata": {
    "execution": {
     "iopub.execute_input": "2023-12-21T11:48:55.845553Z",
     "iopub.status.busy": "2023-12-21T11:48:55.845176Z",
     "iopub.status.idle": "2023-12-21T11:48:55.858953Z",
     "shell.execute_reply": "2023-12-21T11:48:55.857823Z"
    },
    "papermill": {
     "duration": 0.029484,
     "end_time": "2023-12-21T11:48:55.861567",
     "exception": false,
     "start_time": "2023-12-21T11:48:55.832083",
     "status": "completed"
    },
    "tags": []
   },
   "outputs": [],
   "source": [
    "conn = sqlite3.connect(db_path)"
   ]
  },
  {
   "cell_type": "code",
   "execution_count": 5,
   "id": "5925cf73",
   "metadata": {
    "execution": {
     "iopub.execute_input": "2023-12-21T11:48:55.887814Z",
     "iopub.status.busy": "2023-12-21T11:48:55.887411Z",
     "iopub.status.idle": "2023-12-21T11:48:55.932909Z",
     "shell.execute_reply": "2023-12-21T11:48:55.931678Z"
    },
    "papermill": {
     "duration": 0.061627,
     "end_time": "2023-12-21T11:48:55.935454",
     "exception": false,
     "start_time": "2023-12-21T11:48:55.873827",
     "status": "completed"
    },
    "tags": []
   },
   "outputs": [
    {
     "data": {
      "text/html": [
       "<div>\n",
       "<style scoped>\n",
       "    .dataframe tbody tr th:only-of-type {\n",
       "        vertical-align: middle;\n",
       "    }\n",
       "\n",
       "    .dataframe tbody tr th {\n",
       "        vertical-align: top;\n",
       "    }\n",
       "\n",
       "    .dataframe thead th {\n",
       "        text-align: right;\n",
       "    }\n",
       "</style>\n",
       "<table border=\"1\" class=\"dataframe\">\n",
       "  <thead>\n",
       "    <tr style=\"text-align: right;\">\n",
       "      <th></th>\n",
       "      <th>type</th>\n",
       "      <th>name</th>\n",
       "      <th>tbl_name</th>\n",
       "      <th>rootpage</th>\n",
       "      <th>sql</th>\n",
       "    </tr>\n",
       "  </thead>\n",
       "  <tbody>\n",
       "    <tr>\n",
       "      <th>0</th>\n",
       "      <td>table</td>\n",
       "      <td>actor</td>\n",
       "      <td>actor</td>\n",
       "      <td>2</td>\n",
       "      <td>CREATE TABLE actor (\\n  actor_id numeric NOT N...</td>\n",
       "    </tr>\n",
       "    <tr>\n",
       "      <th>1</th>\n",
       "      <td>table</td>\n",
       "      <td>country</td>\n",
       "      <td>country</td>\n",
       "      <td>5</td>\n",
       "      <td>CREATE TABLE country (\\n  country_id SMALLINT ...</td>\n",
       "    </tr>\n",
       "    <tr>\n",
       "      <th>2</th>\n",
       "      <td>table</td>\n",
       "      <td>city</td>\n",
       "      <td>city</td>\n",
       "      <td>7</td>\n",
       "      <td>CREATE TABLE city (\\n  city_id int NOT NULL,\\n...</td>\n",
       "    </tr>\n",
       "    <tr>\n",
       "      <th>3</th>\n",
       "      <td>table</td>\n",
       "      <td>address</td>\n",
       "      <td>address</td>\n",
       "      <td>10</td>\n",
       "      <td>CREATE TABLE address (\\n  address_id int NOT N...</td>\n",
       "    </tr>\n",
       "    <tr>\n",
       "      <th>4</th>\n",
       "      <td>table</td>\n",
       "      <td>language</td>\n",
       "      <td>language</td>\n",
       "      <td>13</td>\n",
       "      <td>CREATE TABLE language (\\n  language_id SMALLIN...</td>\n",
       "    </tr>\n",
       "    <tr>\n",
       "      <th>5</th>\n",
       "      <td>table</td>\n",
       "      <td>category</td>\n",
       "      <td>category</td>\n",
       "      <td>15</td>\n",
       "      <td>CREATE TABLE category (\\n  category_id SMALLIN...</td>\n",
       "    </tr>\n",
       "    <tr>\n",
       "      <th>6</th>\n",
       "      <td>table</td>\n",
       "      <td>customer</td>\n",
       "      <td>customer</td>\n",
       "      <td>19</td>\n",
       "      <td>CREATE TABLE customer (\\n  customer_id INT NOT...</td>\n",
       "    </tr>\n",
       "    <tr>\n",
       "      <th>7</th>\n",
       "      <td>table</td>\n",
       "      <td>film</td>\n",
       "      <td>film</td>\n",
       "      <td>24</td>\n",
       "      <td>CREATE TABLE film (\\n  film_id int NOT NULL,\\n...</td>\n",
       "    </tr>\n",
       "    <tr>\n",
       "      <th>8</th>\n",
       "      <td>table</td>\n",
       "      <td>film_actor</td>\n",
       "      <td>film_actor</td>\n",
       "      <td>28</td>\n",
       "      <td>CREATE TABLE film_actor (\\n  actor_id INT NOT ...</td>\n",
       "    </tr>\n",
       "    <tr>\n",
       "      <th>9</th>\n",
       "      <td>table</td>\n",
       "      <td>film_category</td>\n",
       "      <td>film_category</td>\n",
       "      <td>33</td>\n",
       "      <td>CREATE TABLE film_category (\\n  film_id INT NO...</td>\n",
       "    </tr>\n",
       "    <tr>\n",
       "      <th>10</th>\n",
       "      <td>table</td>\n",
       "      <td>film_text</td>\n",
       "      <td>film_text</td>\n",
       "      <td>37</td>\n",
       "      <td>CREATE TABLE film_text (\\n  film_id SMALLINT N...</td>\n",
       "    </tr>\n",
       "    <tr>\n",
       "      <th>11</th>\n",
       "      <td>table</td>\n",
       "      <td>inventory</td>\n",
       "      <td>inventory</td>\n",
       "      <td>39</td>\n",
       "      <td>CREATE TABLE inventory (\\n  inventory_id INT N...</td>\n",
       "    </tr>\n",
       "    <tr>\n",
       "      <th>12</th>\n",
       "      <td>table</td>\n",
       "      <td>staff</td>\n",
       "      <td>staff</td>\n",
       "      <td>43</td>\n",
       "      <td>CREATE TABLE staff (\\n  staff_id SMALLINT NOT ...</td>\n",
       "    </tr>\n",
       "    <tr>\n",
       "      <th>13</th>\n",
       "      <td>table</td>\n",
       "      <td>store</td>\n",
       "      <td>store</td>\n",
       "      <td>48</td>\n",
       "      <td>CREATE TABLE store (\\n  store_id INT NOT NULL,...</td>\n",
       "    </tr>\n",
       "    <tr>\n",
       "      <th>14</th>\n",
       "      <td>table</td>\n",
       "      <td>payment</td>\n",
       "      <td>payment</td>\n",
       "      <td>52</td>\n",
       "      <td>CREATE TABLE payment (\\n  payment_id int NOT N...</td>\n",
       "    </tr>\n",
       "    <tr>\n",
       "      <th>15</th>\n",
       "      <td>table</td>\n",
       "      <td>rental</td>\n",
       "      <td>rental</td>\n",
       "      <td>56</td>\n",
       "      <td>CREATE TABLE rental (\\n  rental_id INT NOT NUL...</td>\n",
       "    </tr>\n",
       "  </tbody>\n",
       "</table>\n",
       "</div>"
      ],
      "text/plain": [
       "     type           name       tbl_name  rootpage  \\\n",
       "0   table          actor          actor         2   \n",
       "1   table        country        country         5   \n",
       "2   table           city           city         7   \n",
       "3   table        address        address        10   \n",
       "4   table       language       language        13   \n",
       "5   table       category       category        15   \n",
       "6   table       customer       customer        19   \n",
       "7   table           film           film        24   \n",
       "8   table     film_actor     film_actor        28   \n",
       "9   table  film_category  film_category        33   \n",
       "10  table      film_text      film_text        37   \n",
       "11  table      inventory      inventory        39   \n",
       "12  table          staff          staff        43   \n",
       "13  table          store          store        48   \n",
       "14  table        payment        payment        52   \n",
       "15  table         rental         rental        56   \n",
       "\n",
       "                                                  sql  \n",
       "0   CREATE TABLE actor (\\n  actor_id numeric NOT N...  \n",
       "1   CREATE TABLE country (\\n  country_id SMALLINT ...  \n",
       "2   CREATE TABLE city (\\n  city_id int NOT NULL,\\n...  \n",
       "3   CREATE TABLE address (\\n  address_id int NOT N...  \n",
       "4   CREATE TABLE language (\\n  language_id SMALLIN...  \n",
       "5   CREATE TABLE category (\\n  category_id SMALLIN...  \n",
       "6   CREATE TABLE customer (\\n  customer_id INT NOT...  \n",
       "7   CREATE TABLE film (\\n  film_id int NOT NULL,\\n...  \n",
       "8   CREATE TABLE film_actor (\\n  actor_id INT NOT ...  \n",
       "9   CREATE TABLE film_category (\\n  film_id INT NO...  \n",
       "10  CREATE TABLE film_text (\\n  film_id SMALLINT N...  \n",
       "11  CREATE TABLE inventory (\\n  inventory_id INT N...  \n",
       "12  CREATE TABLE staff (\\n  staff_id SMALLINT NOT ...  \n",
       "13  CREATE TABLE store (\\n  store_id INT NOT NULL,...  \n",
       "14  CREATE TABLE payment (\\n  payment_id int NOT N...  \n",
       "15  CREATE TABLE rental (\\n  rental_id INT NOT NUL...  "
      ]
     },
     "execution_count": 5,
     "metadata": {},
     "output_type": "execute_result"
    }
   ],
   "source": [
    "# Displaying all the tables in the Sakila Database\n",
    "tables = pd.read_sql(\"\"\"\n",
    "\n",
    "SELECT *\n",
    "FROM sqlite_master\n",
    "WHERE type = 'table';\n",
    "\n",
    "\"\"\", conn)\n",
    "\n",
    "tables"
   ]
  },
  {
   "cell_type": "markdown",
   "id": "3ed24bbe",
   "metadata": {
    "papermill": {
     "duration": 0.012543,
     "end_time": "2023-12-21T11:48:55.960454",
     "exception": false,
     "start_time": "2023-12-21T11:48:55.947911",
     "status": "completed"
    },
    "tags": []
   },
   "source": [
    "## Film Ratings Distribution"
   ]
  },
  {
   "cell_type": "code",
   "execution_count": 6,
   "id": "a479b974",
   "metadata": {
    "execution": {
     "iopub.execute_input": "2023-12-21T11:48:55.986968Z",
     "iopub.status.busy": "2023-12-21T11:48:55.986313Z",
     "iopub.status.idle": "2023-12-21T11:48:56.019482Z",
     "shell.execute_reply": "2023-12-21T11:48:56.018684Z"
    },
    "papermill": {
     "duration": 0.049059,
     "end_time": "2023-12-21T11:48:56.021869",
     "exception": false,
     "start_time": "2023-12-21T11:48:55.972810",
     "status": "completed"
    },
    "tags": []
   },
   "outputs": [
    {
     "data": {
      "text/html": [
       "<div>\n",
       "<style scoped>\n",
       "    .dataframe tbody tr th:only-of-type {\n",
       "        vertical-align: middle;\n",
       "    }\n",
       "\n",
       "    .dataframe tbody tr th {\n",
       "        vertical-align: top;\n",
       "    }\n",
       "\n",
       "    .dataframe thead th {\n",
       "        text-align: right;\n",
       "    }\n",
       "</style>\n",
       "<table border=\"1\" class=\"dataframe\">\n",
       "  <thead>\n",
       "    <tr style=\"text-align: right;\">\n",
       "      <th></th>\n",
       "      <th>rating</th>\n",
       "      <th>count</th>\n",
       "      <th>percent</th>\n",
       "    </tr>\n",
       "  </thead>\n",
       "  <tbody>\n",
       "    <tr>\n",
       "      <th>0</th>\n",
       "      <td>G</td>\n",
       "      <td>178</td>\n",
       "      <td>17.8</td>\n",
       "    </tr>\n",
       "    <tr>\n",
       "      <th>1</th>\n",
       "      <td>NC-17</td>\n",
       "      <td>210</td>\n",
       "      <td>21.0</td>\n",
       "    </tr>\n",
       "    <tr>\n",
       "      <th>2</th>\n",
       "      <td>PG</td>\n",
       "      <td>194</td>\n",
       "      <td>19.4</td>\n",
       "    </tr>\n",
       "    <tr>\n",
       "      <th>3</th>\n",
       "      <td>PG-13</td>\n",
       "      <td>223</td>\n",
       "      <td>22.3</td>\n",
       "    </tr>\n",
       "    <tr>\n",
       "      <th>4</th>\n",
       "      <td>R</td>\n",
       "      <td>195</td>\n",
       "      <td>19.5</td>\n",
       "    </tr>\n",
       "  </tbody>\n",
       "</table>\n",
       "</div>"
      ],
      "text/plain": [
       "  rating  count  percent\n",
       "0      G    178     17.8\n",
       "1  NC-17    210     21.0\n",
       "2     PG    194     19.4\n",
       "3  PG-13    223     22.3\n",
       "4      R    195     19.5"
      ]
     },
     "execution_count": 6,
     "metadata": {},
     "output_type": "execute_result"
    }
   ],
   "source": [
    "query1 = \"\"\"\n",
    "\n",
    "SELECT rating, \n",
    "       COUNT(*) as count, \n",
    "       ROUND(COUNT(*) * 100.0 / (SELECT COUNT(*) FROM film), 2) as percent\n",
    "FROM film\n",
    "GROUP BY rating;\n",
    "\"\"\"\n",
    "result1 = pd.read_sql_query(query1, conn)\n",
    "result1"
   ]
  },
  {
   "cell_type": "markdown",
   "id": "fce0bdda",
   "metadata": {
    "papermill": {
     "duration": 0.012134,
     "end_time": "2023-12-21T11:48:56.047297",
     "exception": false,
     "start_time": "2023-12-21T11:48:56.035163",
     "status": "completed"
    },
    "tags": []
   },
   "source": [
    "The database has a fairly balanced distribution of film ratings, catering to a wide range of audience preferences. The slightly higher percentage of PG-13 and NC-17 films suggests a focus on teenagers and adults, possibly reflecting customer demand or rental patterns. The presence of a significant number of G and PG-rated films shows that the database also caters to families and children."
   ]
  },
  {
   "cell_type": "code",
   "execution_count": 7,
   "id": "f5faa576",
   "metadata": {
    "execution": {
     "iopub.execute_input": "2023-12-21T11:48:56.074097Z",
     "iopub.status.busy": "2023-12-21T11:48:56.073678Z",
     "iopub.status.idle": "2023-12-21T11:48:56.414509Z",
     "shell.execute_reply": "2023-12-21T11:48:56.413107Z"
    },
    "papermill": {
     "duration": 0.357199,
     "end_time": "2023-12-21T11:48:56.417236",
     "exception": false,
     "start_time": "2023-12-21T11:48:56.060037",
     "status": "completed"
    },
    "tags": []
   },
   "outputs": [
    {
     "data": {
      "image/png": "[encoded data removed]",
      "text/plain": [
       "<Figure size 800x800 with 1 Axes>"
      ]
     },
     "metadata": {},
     "output_type": "display_data"
    }
   ],
   "source": [
    "# Creating the pie chart\n",
    "colors = sns.color_palette('deep')\n",
    "#colors = plt.get_cmap('Set3')(range(len(result2)))\n",
    "fig,ax = plt.subplots(figsize=(8,8))\n",
    "ax.pie(result1['percent'], colors=colors, autopct='%1.1f%%', startangle=140, wedgeprops=dict(width=.7))\n",
    "ax.legend(labels=result1['rating'], title=\"Ratings\", bbox_to_anchor=(1.4,0.6), fontsize=10 )\n",
    "ax.set_title('Movie Rating Distribution', fontsize=15, fontweight='bold')\n",
    "plt.show()\n"
   ]
  },
  {
   "cell_type": "code",
   "execution_count": 8,
   "id": "bd5dc1d4",
   "metadata": {
    "execution": {
     "iopub.execute_input": "2023-12-21T11:48:56.446753Z",
     "iopub.status.busy": "2023-12-21T11:48:56.446293Z",
     "iopub.status.idle": "2023-12-21T11:48:58.334835Z",
     "shell.execute_reply": "2023-12-21T11:48:58.333583Z"
    },
    "papermill": {
     "duration": 1.906098,
     "end_time": "2023-12-21T11:48:58.337343",
     "exception": false,
     "start_time": "2023-12-21T11:48:56.431245",
     "status": "completed"
    },
    "tags": []
   },
   "outputs": [
    {
     "data": {
      "text/html": [
       "        <script type=\"text/javascript\">\n",
       "        window.PlotlyConfig = {MathJaxConfig: 'local'};\n",
       "        if (window.MathJax && window.MathJax.Hub && window.MathJax.Hub.Config) {window.MathJax.Hub.Config({SVG: {font: \"STIX-Web\"}});}\n",
       "        if (typeof require !== 'undefined') {\n",
       "        require.undef(\"plotly\");\n",
       "        requirejs.config({\n",
       "            paths: {\n",
       "                'plotly': ['https://cdn.plot.ly/plotly-2.25.2.min']\n",
       "            }\n",
       "        });\n",
       "        require(['plotly'], function(Plotly) {\n",
       "            window._Plotly = Plotly;\n",
       "        });\n",
       "        }\n",
       "        </script>\n",
       "        "
      ]
     },
     "metadata": {},
     "output_type": "display_data"
    },
    {
     "data": {
      "text/html": [
       "<div>                            <div id=\"e0470dd6-7d66-457c-b19d-db6b4a557972\" class=\"plotly-graph-div\" style=\"height:525px; width:100%;\"></div>            <script type=\"text/javascript\">                require([\"plotly\"], function(Plotly) {                    window.PLOTLYENV=window.PLOTLYENV || {};                                    if (document.getElementById(\"e0470dd6-7d66-457c-b19d-db6b4a557972\")) {                    Plotly.newPlot(                        \"e0470dd6-7d66-457c-b19d-db6b4a557972\",                        [{\"domain\":{\"x\":[0.0,1.0],\"y\":[0.0,1.0]},\"hole\":0.3,\"hovertemplate\":\"rating=%{label}\\u003cbr\\u003epercent=%{value}\\u003cextra\\u003e\\u003c\\u002fextra\\u003e\",\"labels\":[\"G\",\"NC-17\",\"PG\",\"PG-13\",\"R\"],\"legendgroup\":\"\",\"name\":\"\",\"showlegend\":true,\"values\":[17.8,21.0,19.4,22.3,19.5],\"type\":\"pie\"}],                        {\"template\":{\"data\":{\"histogram2dcontour\":[{\"type\":\"histogram2dcontour\",\"colorbar\":{\"outlinewidth\":0,\"ticks\":\"\"},\"colorscale\":[[0.0,\"#0d0887\"],[0.1111111111111111,\"#46039f\"],[0.2222222222222222,\"#7201a8\"],[0.3333333333333333,\"#9c179e\"],[0.4444444444444444,\"#bd3786\"],[0.5555555555555556,\"#d8576b\"],[0.6666666666666666,\"#ed7953\"],[0.7777777777777778,\"#fb9f3a\"],[0.8888888888888888,\"#fdca26\"],[1.0,\"#f0f921\"]]}],\"choropleth\":[{\"type\":\"choropleth\",\"colorbar\":{\"outlinewidth\":0,\"ticks\":\"\"}}],\"histogram2d\":[{\"type\":\"histogram2d\",\"colorbar\":{\"outlinewidth\":0,\"ticks\":\"\"},\"colorscale\":[[0.0,\"#0d0887\"],[0.1111111111111111,\"#46039f\"],[0.2222222222222222,\"#7201a8\"],[0.3333333333333333,\"#9c179e\"],[0.4444444444444444,\"#bd3786\"],[0.5555555555555556,\"#d8576b\"],[0.6666666666666666,\"#ed7953\"],[0.7777777777777778,\"#fb9f3a\"],[0.8888888888888888,\"#fdca26\"],[1.0,\"#f0f921\"]]}],\"heatmap\":[{\"type\":\"heatmap\",\"colorbar\":{\"outlinewidth\":0,\"ticks\":\"\"},\"colorscale\":[[0.0,\"#0d0887\"],[0.1111111111111111,\"#46039f\"],[0.2222222222222222,\"#7201a8\"],[0.3333333333333333,\"#9c179e\"],[0.4444444444444444,\"#bd3786\"],[0.5555555555555556,\"#d8576b\"],[0.6666666666666666,\"#ed7953\"],[0.7777777777777778,\"#fb9f3a\"],[0.8888888888888888,\"#fdca26\"],[1.0,\"#f0f921\"]]}],\"heatmapgl\":[{\"type\":\"heatmapgl\",\"colorbar\":{\"outlinewidth\":0,\"ticks\":\"\"},\"colorscale\":[[0.0,\"#0d0887\"],[0.1111111111111111,\"#46039f\"],[0.2222222222222222,\"#7201a8\"],[0.3333333333333333,\"#9c179e\"],[0.4444444444444444,\"#bd3786\"],[0.5555555555555556,\"#d8576b\"],[0.6666666666666666,\"#ed7953\"],[0.7777777777777778,\"#fb9f3a\"],[0.8888888888888888,\"#fdca26\"],[1.0,\"#f0f921\"]]}],\"contourcarpet\":[{\"type\":\"contourcarpet\",\"colorbar\":{\"outlinewidth\":0,\"ticks\":\"\"}}],\"contour\":[{\"type\":\"contour\",\"colorbar\":{\"outlinewidth\":0,\"ticks\":\"\"},\"colorscale\":[[0.0,\"#0d0887\"],[0.1111111111111111,\"#46039f\"],[0.2222222222222222,\"#7201a8\"],[0.3333333333333333,\"#9c179e\"],[0.4444444444444444,\"#bd3786\"],[0.5555555555555556,\"#d8576b\"],[0.6666666666666666,\"#ed7953\"],[0.7777777777777778,\"#fb9f3a\"],[0.8888888888888888,\"#fdca26\"],[1.0,\"#f0f921\"]]}],\"surface\":[{\"type\":\"surface\",\"colorbar\":{\"outlinewidth\":0,\"ticks\":\"\"},\"colorscale\":[[0.0,\"#0d0887\"],[0.1111111111111111,\"#46039f\"],[0.2222222222222222,\"#7201a8\"],[0.3333333333333333,\"#9c179e\"],[0.4444444444444444,\"#bd3786\"],[0.5555555555555556,\"#d8576b\"],[0.6666666666666666,\"#ed7953\"],[0.7777777777777778,\"#fb9f3a\"],[0.8888888888888888,\"#fdca26\"],[1.0,\"#f0f921\"]]}],\"mesh3d\":[{\"type\":\"mesh3d\",\"colorbar\":{\"outlinewidth\":0,\"ticks\":\"\"}}],\"scatter\":[{\"fillpattern\":{\"fillmode\":\"overlay\",\"size\":10,\"solidity\":0.2},\"type\":\"scatter\"}],\"parcoords\":[{\"type\":\"parcoords\",\"line\":{\"colorbar\":{\"outlinewidth\":0,\"ticks\":\"\"}}}],\"scatterpolargl\":[{\"type\":\"scatterpolargl\",\"marker\":{\"colorbar\":{\"outlinewidth\":0,\"ticks\":\"\"}}}],\"bar\":[{\"error_x\":{\"color\":\"#2a3f5f\"},\"error_y\":{\"color\":\"#2a3f5f\"},\"marker\":{\"line\":{\"color\":\"#E5ECF6\",\"width\":0.5},\"pattern\":{\"fillmode\":\"overlay\",\"size\":10,\"solidity\":0.2}},\"type\":\"bar\"}],\"scattergeo\":[{\"type\":\"scattergeo\",\"marker\":{\"colorbar\":{\"outlinewidth\":0,\"ticks\":\"\"}}}],\"scatterpolar\":[{\"type\":\"scatterpolar\",\"marker\":{\"colorbar\":{\"outlinewidth\":0,\"ticks\":\"\"}}}],\"histogram\":[{\"marker\":{\"pattern\":{\"fillmode\":\"overlay\",\"size\":10,\"solidity\":0.2}},\"type\":\"histogram\"}],\"scattergl\":[{\"type\":\"scattergl\",\"marker\":{\"colorbar\":{\"outlinewidth\":0,\"ticks\":\"\"}}}],\"scatter3d\":[{\"type\":\"scatter3d\",\"line\":{\"colorbar\":{\"outlinewidth\":0,\"ticks\":\"\"}},\"marker\":{\"colorbar\":{\"outlinewidth\":0,\"ticks\":\"\"}}}],\"scattermapbox\":[{\"type\":\"scattermapbox\",\"marker\":{\"colorbar\":{\"outlinewidth\":0,\"ticks\":\"\"}}}],\"scatterternary\":[{\"type\":\"scatterternary\",\"marker\":{\"colorbar\":{\"outlinewidth\":0,\"ticks\":\"\"}}}],\"scattercarpet\":[{\"type\":\"scattercarpet\",\"marker\":{\"colorbar\":{\"outlinewidth\":0,\"ticks\":\"\"}}}],\"carpet\":[{\"aaxis\":{\"endlinecolor\":\"#2a3f5f\",\"gridcolor\":\"white\",\"linecolor\":\"white\",\"minorgridcolor\":\"white\",\"startlinecolor\":\"#2a3f5f\"},\"baxis\":{\"endlinecolor\":\"#2a3f5f\",\"gridcolor\":\"white\",\"linecolor\":\"white\",\"minorgridcolor\":\"white\",\"startlinecolor\":\"#2a3f5f\"},\"type\":\"carpet\"}],\"table\":[{\"cells\":{\"fill\":{\"color\":\"#EBF0F8\"},\"line\":{\"color\":\"white\"}},\"header\":{\"fill\":{\"color\":\"#C8D4E3\"},\"line\":{\"color\":\"white\"}},\"type\":\"table\"}],\"barpolar\":[{\"marker\":{\"line\":{\"color\":\"#E5ECF6\",\"width\":0.5},\"pattern\":{\"fillmode\":\"overlay\",\"size\":10,\"solidity\":0.2}},\"type\":\"barpolar\"}],\"pie\":[{\"automargin\":true,\"type\":\"pie\"}]},\"layout\":{\"autotypenumbers\":\"strict\",\"colorway\":[\"#636efa\",\"#EF553B\",\"#00cc96\",\"#ab63fa\",\"#FFA15A\",\"#19d3f3\",\"#FF6692\",\"#B6E880\",\"#FF97FF\",\"#FECB52\"],\"font\":{\"color\":\"#2a3f5f\"},\"hovermode\":\"closest\",\"hoverlabel\":{\"align\":\"left\"},\"paper_bgcolor\":\"white\",\"plot_bgcolor\":\"#E5ECF6\",\"polar\":{\"bgcolor\":\"#E5ECF6\",\"angularaxis\":{\"gridcolor\":\"white\",\"linecolor\":\"white\",\"ticks\":\"\"},\"radialaxis\":{\"gridcolor\":\"white\",\"linecolor\":\"white\",\"ticks\":\"\"}},\"ternary\":{\"bgcolor\":\"#E5ECF6\",\"aaxis\":{\"gridcolor\":\"white\",\"linecolor\":\"white\",\"ticks\":\"\"},\"baxis\":{\"gridcolor\":\"white\",\"linecolor\":\"white\",\"ticks\":\"\"},\"caxis\":{\"gridcolor\":\"white\",\"linecolor\":\"white\",\"ticks\":\"\"}},\"coloraxis\":{\"colorbar\":{\"outlinewidth\":0,\"ticks\":\"\"}},\"colorscale\":{\"sequential\":[[0.0,\"#0d0887\"],[0.1111111111111111,\"#46039f\"],[0.2222222222222222,\"#7201a8\"],[0.3333333333333333,\"#9c179e\"],[0.4444444444444444,\"#bd3786\"],[0.5555555555555556,\"#d8576b\"],[0.6666666666666666,\"#ed7953\"],[0.7777777777777778,\"#fb9f3a\"],[0.8888888888888888,\"#fdca26\"],[1.0,\"#f0f921\"]],\"sequentialminus\":[[0.0,\"#0d0887\"],[0.1111111111111111,\"#46039f\"],[0.2222222222222222,\"#7201a8\"],[0.3333333333333333,\"#9c179e\"],[0.4444444444444444,\"#bd3786\"],[0.5555555555555556,\"#d8576b\"],[0.6666666666666666,\"#ed7953\"],[0.7777777777777778,\"#fb9f3a\"],[0.8888888888888888,\"#fdca26\"],[1.0,\"#f0f921\"]],\"diverging\":[[0,\"#8e0152\"],[0.1,\"#c51b7d\"],[0.2,\"#de77ae\"],[0.3,\"#f1b6da\"],[0.4,\"#fde0ef\"],[0.5,\"#f7f7f7\"],[0.6,\"#e6f5d0\"],[0.7,\"#b8e186\"],[0.8,\"#7fbc41\"],[0.9,\"#4d9221\"],[1,\"#276419\"]]},\"xaxis\":{\"gridcolor\":\"white\",\"linecolor\":\"white\",\"ticks\":\"\",\"title\":{\"standoff\":15},\"zerolinecolor\":\"white\",\"automargin\":true,\"zerolinewidth\":2},\"yaxis\":{\"gridcolor\":\"white\",\"linecolor\":\"white\",\"ticks\":\"\",\"title\":{\"standoff\":15},\"zerolinecolor\":\"white\",\"automargin\":true,\"zerolinewidth\":2},\"scene\":{\"xaxis\":{\"backgroundcolor\":\"#E5ECF6\",\"gridcolor\":\"white\",\"linecolor\":\"white\",\"showbackground\":true,\"ticks\":\"\",\"zerolinecolor\":\"white\",\"gridwidth\":2},\"yaxis\":{\"backgroundcolor\":\"#E5ECF6\",\"gridcolor\":\"white\",\"linecolor\":\"white\",\"showbackground\":true,\"ticks\":\"\",\"zerolinecolor\":\"white\",\"gridwidth\":2},\"zaxis\":{\"backgroundcolor\":\"#E5ECF6\",\"gridcolor\":\"white\",\"linecolor\":\"white\",\"showbackground\":true,\"ticks\":\"\",\"zerolinecolor\":\"white\",\"gridwidth\":2}},\"shapedefaults\":{\"line\":{\"color\":\"#2a3f5f\"}},\"annotationdefaults\":{\"arrowcolor\":\"#2a3f5f\",\"arrowhead\":0,\"arrowwidth\":1},\"geo\":{\"bgcolor\":\"white\",\"landcolor\":\"#E5ECF6\",\"subunitcolor\":\"white\",\"showland\":true,\"showlakes\":true,\"lakecolor\":\"white\"},\"title\":{\"x\":0.05},\"mapbox\":{\"style\":\"light\"}}},\"legend\":{\"tracegroupgap\":0},\"title\":{\"text\":\"Movie Rating Distribution\"},\"piecolorway\":[\"rgb(102, 197, 204)\",\"rgb(246, 207, 113)\",\"rgb(248, 156, 116)\",\"rgb(220, 176, 242)\",\"rgb(135, 197, 95)\",\"rgb(158, 185, 243)\",\"rgb(254, 136, 177)\",\"rgb(201, 219, 116)\",\"rgb(139, 224, 164)\",\"rgb(180, 151, 231)\",\"rgb(179, 179, 179)\"]},                        {\"responsive\": true}                    ).then(function(){\n",
       "                            \n",
       "var gd = document.getElementById('e0470dd6-7d66-457c-b19d-db6b4a557972');\n",
       "var x = new MutationObserver(function (mutations, observer) {{\n",
       "        var display = window.getComputedStyle(gd).display;\n",
       "        if (!display || display === 'none') {{\n",
       "            console.log([gd, 'removed!']);\n",
       "            Plotly.purge(gd);\n",
       "            observer.disconnect();\n",
       "        }}\n",
       "}});\n",
       "\n",
       "// Listen for the removal of the full notebook cells\n",
       "var notebookContainer = gd.closest('#notebook-container');\n",
       "if (notebookContainer) {{\n",
       "    x.observe(notebookContainer, {childList: true});\n",
       "}}\n",
       "\n",
       "// Listen for the clearing of the current output cell\n",
       "var outputEl = gd.closest('.output');\n",
       "if (outputEl) {{\n",
       "    x.observe(outputEl, {childList: true});\n",
       "}}\n",
       "\n",
       "                        })                };                });            </script>        </div>"
      ]
     },
     "metadata": {},
     "output_type": "display_data"
    }
   ],
   "source": [
    "fig2 = px.pie(result1, names='rating', values='percent', title='Movie Rating Distribution', hole=.3, color_discrete_sequence=px.colors.qualitative.Pastel)\n",
    "fig2.show()"
   ]
  },
  {
   "cell_type": "markdown",
   "id": "8335632a",
   "metadata": {
    "papermill": {
     "duration": 0.01337,
     "end_time": "2023-12-21T11:48:58.365304",
     "exception": false,
     "start_time": "2023-12-21T11:48:58.351934",
     "status": "completed"
    },
    "tags": []
   },
   "source": [
    "## Rental Film Category Popularity"
   ]
  },
  {
   "cell_type": "code",
   "execution_count": 9,
   "id": "326e7d55",
   "metadata": {
    "execution": {
     "iopub.execute_input": "2023-12-21T11:48:58.398406Z",
     "iopub.status.busy": "2023-12-21T11:48:58.397313Z",
     "iopub.status.idle": "2023-12-21T11:48:58.554930Z",
     "shell.execute_reply": "2023-12-21T11:48:58.553737Z"
    },
    "papermill": {
     "duration": 0.178728,
     "end_time": "2023-12-21T11:48:58.557608",
     "exception": false,
     "start_time": "2023-12-21T11:48:58.378880",
     "status": "completed"
    },
    "tags": []
   },
   "outputs": [
    {
     "data": {
      "text/html": [
       "<div>\n",
       "<style scoped>\n",
       "    .dataframe tbody tr th:only-of-type {\n",
       "        vertical-align: middle;\n",
       "    }\n",
       "\n",
       "    .dataframe tbody tr th {\n",
       "        vertical-align: top;\n",
       "    }\n",
       "\n",
       "    .dataframe thead th {\n",
       "        text-align: right;\n",
       "    }\n",
       "</style>\n",
       "<table border=\"1\" class=\"dataframe\">\n",
       "  <thead>\n",
       "    <tr style=\"text-align: right;\">\n",
       "      <th></th>\n",
       "      <th>name</th>\n",
       "      <th>count</th>\n",
       "    </tr>\n",
       "  </thead>\n",
       "  <tbody>\n",
       "    <tr>\n",
       "      <th>0</th>\n",
       "      <td>Sports</td>\n",
       "      <td>1179</td>\n",
       "    </tr>\n",
       "    <tr>\n",
       "      <th>1</th>\n",
       "      <td>Animation</td>\n",
       "      <td>1166</td>\n",
       "    </tr>\n",
       "    <tr>\n",
       "      <th>2</th>\n",
       "      <td>Action</td>\n",
       "      <td>1112</td>\n",
       "    </tr>\n",
       "    <tr>\n",
       "      <th>3</th>\n",
       "      <td>Sci-Fi</td>\n",
       "      <td>1101</td>\n",
       "    </tr>\n",
       "    <tr>\n",
       "      <th>4</th>\n",
       "      <td>Family</td>\n",
       "      <td>1096</td>\n",
       "    </tr>\n",
       "    <tr>\n",
       "      <th>5</th>\n",
       "      <td>Drama</td>\n",
       "      <td>1060</td>\n",
       "    </tr>\n",
       "    <tr>\n",
       "      <th>6</th>\n",
       "      <td>Documentary</td>\n",
       "      <td>1050</td>\n",
       "    </tr>\n",
       "    <tr>\n",
       "      <th>7</th>\n",
       "      <td>Foreign</td>\n",
       "      <td>1033</td>\n",
       "    </tr>\n",
       "    <tr>\n",
       "      <th>8</th>\n",
       "      <td>Games</td>\n",
       "      <td>969</td>\n",
       "    </tr>\n",
       "    <tr>\n",
       "      <th>9</th>\n",
       "      <td>Children</td>\n",
       "      <td>945</td>\n",
       "    </tr>\n",
       "    <tr>\n",
       "      <th>10</th>\n",
       "      <td>Comedy</td>\n",
       "      <td>941</td>\n",
       "    </tr>\n",
       "    <tr>\n",
       "      <th>11</th>\n",
       "      <td>New</td>\n",
       "      <td>940</td>\n",
       "    </tr>\n",
       "    <tr>\n",
       "      <th>12</th>\n",
       "      <td>Classics</td>\n",
       "      <td>939</td>\n",
       "    </tr>\n",
       "    <tr>\n",
       "      <th>13</th>\n",
       "      <td>Horror</td>\n",
       "      <td>846</td>\n",
       "    </tr>\n",
       "    <tr>\n",
       "      <th>14</th>\n",
       "      <td>Travel</td>\n",
       "      <td>837</td>\n",
       "    </tr>\n",
       "    <tr>\n",
       "      <th>15</th>\n",
       "      <td>Music</td>\n",
       "      <td>830</td>\n",
       "    </tr>\n",
       "  </tbody>\n",
       "</table>\n",
       "</div>"
      ],
      "text/plain": [
       "           name  count\n",
       "0        Sports   1179\n",
       "1     Animation   1166\n",
       "2        Action   1112\n",
       "3        Sci-Fi   1101\n",
       "4        Family   1096\n",
       "5         Drama   1060\n",
       "6   Documentary   1050\n",
       "7       Foreign   1033\n",
       "8         Games    969\n",
       "9      Children    945\n",
       "10       Comedy    941\n",
       "11          New    940\n",
       "12     Classics    939\n",
       "13       Horror    846\n",
       "14       Travel    837\n",
       "15        Music    830"
      ]
     },
     "execution_count": 9,
     "metadata": {},
     "output_type": "execute_result"
    }
   ],
   "source": [
    "query2 = \"\"\"\n",
    "\n",
    "SELECT c.name, COUNT(*) as count\n",
    "FROM film as f\n",
    "\n",
    "JOIN film_category as fc\n",
    "ON f.film_id = fc.film_id\n",
    "\n",
    "JOIN category as c\n",
    "ON fc.category_id = c.category_id\n",
    "\n",
    "JOIN inventory as i\n",
    "ON f.film_id = i.film_id\n",
    "\n",
    "JOIN rental as r\n",
    "ON i.inventory_id = r.inventory_id\n",
    "\n",
    "GROUP BY c.name\n",
    "ORDER BY count desc\n",
    ";\n",
    "\"\"\"\n",
    "result2 = pd.read_sql_query(query2, conn)\n",
    "result2"
   ]
  },
  {
   "cell_type": "markdown",
   "id": "3c27568f",
   "metadata": {
    "papermill": {
     "duration": 0.013733,
     "end_time": "2023-12-21T11:48:58.585674",
     "exception": false,
     "start_time": "2023-12-21T11:48:58.571941",
     "status": "completed"
    },
    "tags": []
   },
   "source": [
    "**Key Findings**:\n",
    "- **Top Genres**: Sports (1179 rentals) and Animation (1166 rentals) are the most popular genres, indicating a strong customer preference for these types of films.\n",
    "- **High Demand**: Action (1112 rentals) and Sci-Fi (1101 rentals) follow closely, suggesting a significant interest in high-energy and fantastical themes.\n",
    "- **Family and Drama**: Both genres show a solid rental count (Family: 1096, Drama: 1060), reflecting their broad appeal.\n",
    "- **Niche Genres**: Genres like Horror (846 rentals) and Travel (837 rentals) have lower but still notable rental numbers.\n",
    "\n",
    "**Implications**:\n",
    "- **Inventory Focus**: Stores should ensure a good stock of top genres while maintaining a diverse collection to cater to varied tastes.\n",
    "- **Marketing Strategies**: Promotions can be targeted towards popular genres to attract more customers.\n",
    "- **Future Acquisitions**: Preference trends should inform the acquisition of new titles, especially in top-performing genres.\n",
    "\n",
    "This analysis reveals customer preferences and can guide business strategies in movie rental services."
   ]
  },
  {
   "cell_type": "code",
   "execution_count": 10,
   "id": "91f7e343",
   "metadata": {
    "execution": {
     "iopub.execute_input": "2023-12-21T11:48:58.615099Z",
     "iopub.status.busy": "2023-12-21T11:48:58.614674Z",
     "iopub.status.idle": "2023-12-21T11:48:58.674488Z",
     "shell.execute_reply": "2023-12-21T11:48:58.673143Z"
    },
    "papermill": {
     "duration": 0.080261,
     "end_time": "2023-12-21T11:48:58.679791",
     "exception": false,
     "start_time": "2023-12-21T11:48:58.599530",
     "status": "completed"
    },
    "tags": []
   },
   "outputs": [
    {
     "data": {
      "text/html": [
       "<div>\n",
       "<style scoped>\n",
       "    .dataframe tbody tr th:only-of-type {\n",
       "        vertical-align: middle;\n",
       "    }\n",
       "\n",
       "    .dataframe tbody tr th {\n",
       "        vertical-align: top;\n",
       "    }\n",
       "\n",
       "    .dataframe thead th {\n",
       "        text-align: right;\n",
       "    }\n",
       "</style>\n",
       "<table border=\"1\" class=\"dataframe\">\n",
       "  <thead>\n",
       "    <tr style=\"text-align: right;\">\n",
       "      <th></th>\n",
       "      <th>name</th>\n",
       "    </tr>\n",
       "  </thead>\n",
       "  <tbody>\n",
       "    <tr>\n",
       "      <th>0</th>\n",
       "      <td>Documentary</td>\n",
       "    </tr>\n",
       "    <tr>\n",
       "      <th>1</th>\n",
       "      <td>Documentary</td>\n",
       "    </tr>\n",
       "    <tr>\n",
       "      <th>2</th>\n",
       "      <td>Documentary</td>\n",
       "    </tr>\n",
       "    <tr>\n",
       "      <th>3</th>\n",
       "      <td>Documentary</td>\n",
       "    </tr>\n",
       "    <tr>\n",
       "      <th>4</th>\n",
       "      <td>Documentary</td>\n",
       "    </tr>\n",
       "    <tr>\n",
       "      <th>...</th>\n",
       "      <td>...</td>\n",
       "    </tr>\n",
       "    <tr>\n",
       "      <th>16039</th>\n",
       "      <td>Comedy</td>\n",
       "    </tr>\n",
       "    <tr>\n",
       "      <th>16040</th>\n",
       "      <td>Comedy</td>\n",
       "    </tr>\n",
       "    <tr>\n",
       "      <th>16041</th>\n",
       "      <td>Comedy</td>\n",
       "    </tr>\n",
       "    <tr>\n",
       "      <th>16042</th>\n",
       "      <td>Comedy</td>\n",
       "    </tr>\n",
       "    <tr>\n",
       "      <th>16043</th>\n",
       "      <td>Comedy</td>\n",
       "    </tr>\n",
       "  </tbody>\n",
       "</table>\n",
       "<p>16044 rows × 1 columns</p>\n",
       "</div>"
      ],
      "text/plain": [
       "              name\n",
       "0      Documentary\n",
       "1      Documentary\n",
       "2      Documentary\n",
       "3      Documentary\n",
       "4      Documentary\n",
       "...            ...\n",
       "16039       Comedy\n",
       "16040       Comedy\n",
       "16041       Comedy\n",
       "16042       Comedy\n",
       "16043       Comedy\n",
       "\n",
       "[16044 rows x 1 columns]"
      ]
     },
     "execution_count": 10,
     "metadata": {},
     "output_type": "execute_result"
    }
   ],
   "source": [
    "query3 = \"\"\"\n",
    "\n",
    "SELECT c.name\n",
    "FROM film as f\n",
    "\n",
    "JOIN film_category as fc\n",
    "ON f.film_id = fc.film_id\n",
    "\n",
    "JOIN category as c\n",
    "ON fc.category_id = c.category_id\n",
    "\n",
    "JOIN inventory as i\n",
    "ON f.film_id = i.film_id\n",
    "\n",
    "JOIN rental as r\n",
    "ON i.inventory_id = r.inventory_id\n",
    "\n",
    ";\n",
    "\"\"\"\n",
    "result3 = pd.read_sql_query(query3, conn)\n",
    "result3"
   ]
  },
  {
   "cell_type": "code",
   "execution_count": 11,
   "id": "a81d5d8a",
   "metadata": {
    "execution": {
     "iopub.execute_input": "2023-12-21T11:48:58.715145Z",
     "iopub.status.busy": "2023-12-21T11:48:58.714728Z",
     "iopub.status.idle": "2023-12-21T11:48:58.722577Z",
     "shell.execute_reply": "2023-12-21T11:48:58.721769Z"
    },
    "papermill": {
     "duration": 0.026181,
     "end_time": "2023-12-21T11:48:58.725093",
     "exception": false,
     "start_time": "2023-12-21T11:48:58.698912",
     "status": "completed"
    },
    "tags": []
   },
   "outputs": [],
   "source": [
    "cat = result3['name'].tolist()\n",
    "cat_str = ' '.join(cat)"
   ]
  },
  {
   "cell_type": "code",
   "execution_count": 12,
   "id": "1fe02e5d",
   "metadata": {
    "execution": {
     "iopub.execute_input": "2023-12-21T11:48:58.757747Z",
     "iopub.status.busy": "2023-12-21T11:48:58.756961Z",
     "iopub.status.idle": "2023-12-21T11:49:02.021800Z",
     "shell.execute_reply": "2023-12-21T11:49:02.020961Z"
    },
    "papermill": {
     "duration": 3.283859,
     "end_time": "2023-12-21T11:49:02.025026",
     "exception": false,
     "start_time": "2023-12-21T11:48:58.741167",
     "status": "completed"
    },
    "tags": []
   },
   "outputs": [
    {
     "data": {
      "image/png": "[encoded data removed]",
      "text/plain": [
       "<Figure size 600x600 with 1 Axes>"
      ]
     },
     "metadata": {},
     "output_type": "display_data"
    }
   ],
   "source": [
    "from wordcloud import WordCloud\n",
    "wc = WordCloud(font_path='/kaggle/input/fontforwc/Questrial-Regular.ttf', collocations = False, width=1000, height=1000, background_color = \"white\", colormap = 'Dark2')\n",
    "wc.generate(cat_str)\n",
    "\n",
    "plt.figure(figsize = (6,6), facecolor = None)\n",
    "plt.imshow(wc, interpolation='bilinear')\n",
    "plt.axis(\"off\")\n",
    "plt.tight_layout(pad = 0)\n",
    "#wc.to_file('cat_cloud.png')"
   ]
  },
  {
   "cell_type": "markdown",
   "id": "2f21c9b8",
   "metadata": {
    "papermill": {
     "duration": 0.01608,
     "end_time": "2023-12-21T11:49:02.058643",
     "exception": false,
     "start_time": "2023-12-21T11:49:02.042563",
     "status": "completed"
    },
    "tags": []
   },
   "source": [
    "## Average Rental Duration by Film Category"
   ]
  },
  {
   "cell_type": "code",
   "execution_count": 13,
   "id": "efa67259",
   "metadata": {
    "execution": {
     "iopub.execute_input": "2023-12-21T11:49:02.093947Z",
     "iopub.status.busy": "2023-12-21T11:49:02.092883Z",
     "iopub.status.idle": "2023-12-21T11:49:02.109414Z",
     "shell.execute_reply": "2023-12-21T11:49:02.108475Z"
    },
    "papermill": {
     "duration": 0.036534,
     "end_time": "2023-12-21T11:49:02.111716",
     "exception": false,
     "start_time": "2023-12-21T11:49:02.075182",
     "status": "completed"
    },
    "tags": []
   },
   "outputs": [
    {
     "data": {
      "text/html": [
       "<div>\n",
       "<style scoped>\n",
       "    .dataframe tbody tr th:only-of-type {\n",
       "        vertical-align: middle;\n",
       "    }\n",
       "\n",
       "    .dataframe tbody tr th {\n",
       "        vertical-align: top;\n",
       "    }\n",
       "\n",
       "    .dataframe thead th {\n",
       "        text-align: right;\n",
       "    }\n",
       "</style>\n",
       "<table border=\"1\" class=\"dataframe\">\n",
       "  <thead>\n",
       "    <tr style=\"text-align: right;\">\n",
       "      <th></th>\n",
       "      <th>catName</th>\n",
       "      <th>avgRentalDuration</th>\n",
       "    </tr>\n",
       "  </thead>\n",
       "  <tbody>\n",
       "    <tr>\n",
       "      <th>0</th>\n",
       "      <td>Travel</td>\n",
       "      <td>5.350877</td>\n",
       "    </tr>\n",
       "    <tr>\n",
       "      <th>1</th>\n",
       "      <td>Music</td>\n",
       "      <td>5.235294</td>\n",
       "    </tr>\n",
       "    <tr>\n",
       "      <th>2</th>\n",
       "      <td>Family</td>\n",
       "      <td>5.173913</td>\n",
       "    </tr>\n",
       "    <tr>\n",
       "      <th>3</th>\n",
       "      <td>Foreign</td>\n",
       "      <td>5.109589</td>\n",
       "    </tr>\n",
       "    <tr>\n",
       "      <th>4</th>\n",
       "      <td>Drama</td>\n",
       "      <td>5.080645</td>\n",
       "    </tr>\n",
       "    <tr>\n",
       "      <th>5</th>\n",
       "      <td>Classics</td>\n",
       "      <td>5.070175</td>\n",
       "    </tr>\n",
       "    <tr>\n",
       "      <th>6</th>\n",
       "      <td>Games</td>\n",
       "      <td>5.065574</td>\n",
       "    </tr>\n",
       "    <tr>\n",
       "      <th>7</th>\n",
       "      <td>Children</td>\n",
       "      <td>5.033333</td>\n",
       "    </tr>\n",
       "    <tr>\n",
       "      <th>8</th>\n",
       "      <td>Action</td>\n",
       "      <td>4.953125</td>\n",
       "    </tr>\n",
       "    <tr>\n",
       "      <th>9</th>\n",
       "      <td>Comedy</td>\n",
       "      <td>4.931034</td>\n",
       "    </tr>\n",
       "    <tr>\n",
       "      <th>10</th>\n",
       "      <td>Animation</td>\n",
       "      <td>4.893939</td>\n",
       "    </tr>\n",
       "    <tr>\n",
       "      <th>11</th>\n",
       "      <td>Sci-Fi</td>\n",
       "      <td>4.885246</td>\n",
       "    </tr>\n",
       "    <tr>\n",
       "      <th>12</th>\n",
       "      <td>Horror</td>\n",
       "      <td>4.857143</td>\n",
       "    </tr>\n",
       "    <tr>\n",
       "      <th>13</th>\n",
       "      <td>Documentary</td>\n",
       "      <td>4.764706</td>\n",
       "    </tr>\n",
       "    <tr>\n",
       "      <th>14</th>\n",
       "      <td>New</td>\n",
       "      <td>4.746032</td>\n",
       "    </tr>\n",
       "    <tr>\n",
       "      <th>15</th>\n",
       "      <td>Sports</td>\n",
       "      <td>4.716216</td>\n",
       "    </tr>\n",
       "  </tbody>\n",
       "</table>\n",
       "</div>"
      ],
      "text/plain": [
       "        catName  avgRentalDuration\n",
       "0        Travel           5.350877\n",
       "1         Music           5.235294\n",
       "2        Family           5.173913\n",
       "3       Foreign           5.109589\n",
       "4         Drama           5.080645\n",
       "5      Classics           5.070175\n",
       "6         Games           5.065574\n",
       "7      Children           5.033333\n",
       "8        Action           4.953125\n",
       "9        Comedy           4.931034\n",
       "10    Animation           4.893939\n",
       "11       Sci-Fi           4.885246\n",
       "12       Horror           4.857143\n",
       "13  Documentary           4.764706\n",
       "14          New           4.746032\n",
       "15       Sports           4.716216"
      ]
     },
     "execution_count": 13,
     "metadata": {},
     "output_type": "execute_result"
    }
   ],
   "source": [
    "query4 = \"\"\"\n",
    "\n",
    "SELECT c.name as catName, AVG(rental_duration) as avgRentalDuration\n",
    "FROM film as f\n",
    "JOIN film_category as fc\n",
    "JOIN category as c\n",
    "\n",
    "ON fc.category_id = c.category_id\n",
    "AND f.film_id = fc.film_id\n",
    "\n",
    "GROUP BY c.name\n",
    "ORDER BY avgRentalDuration desc\n",
    ";\n",
    "\"\"\"\n",
    "result5 = pd.read_sql_query(query4, conn)\n",
    "result5"
   ]
  },
  {
   "cell_type": "markdown",
   "id": "dfe21ac7",
   "metadata": {
    "papermill": {
     "duration": 0.016625,
     "end_time": "2023-12-21T11:49:02.145271",
     "exception": false,
     "start_time": "2023-12-21T11:49:02.128646",
     "status": "completed"
    },
    "tags": []
   },
   "source": [
    "**Key Findings:**\n",
    "- **Longest Average Rentals**: Travel (5.35 days) and Music (5.24 days) genres have the highest average rental durations, indicating that customers prefer to keep these genres for longer periods.\n",
    "- **Family and Foreign Films**: Both genres have an average rental duration above 5 days (Family: 5.17, Foreign: 5.11), suggesting their films are often rented for extended viewing.\n",
    "- **Shorter Duration Genres**: Sports (4.72 days), despite being the most rented genre, has the shortest average rental duration, followed closely by the New genre (4.75 days)."
   ]
  },
  {
   "cell_type": "markdown",
   "id": "5e19cf30",
   "metadata": {
    "papermill": {
     "duration": 0.016404,
     "end_time": "2023-12-21T11:49:02.178480",
     "exception": false,
     "start_time": "2023-12-21T11:49:02.162076",
     "status": "completed"
    },
    "tags": []
   },
   "source": [
    "## Monthly Rental Revenue and Sales"
   ]
  },
  {
   "cell_type": "code",
   "execution_count": 14,
   "id": "121a6ba7",
   "metadata": {
    "execution": {
     "iopub.execute_input": "2023-12-21T11:49:02.213960Z",
     "iopub.status.busy": "2023-12-21T11:49:02.213213Z",
     "iopub.status.idle": "2023-12-21T11:49:02.757121Z",
     "shell.execute_reply": "2023-12-21T11:49:02.756072Z"
    },
    "papermill": {
     "duration": 0.564386,
     "end_time": "2023-12-21T11:49:02.759661",
     "exception": false,
     "start_time": "2023-12-21T11:49:02.195275",
     "status": "completed"
    },
    "tags": []
   },
   "outputs": [
    {
     "data": {
      "text/html": [
       "<div>\n",
       "<style scoped>\n",
       "    .dataframe tbody tr th:only-of-type {\n",
       "        vertical-align: middle;\n",
       "    }\n",
       "\n",
       "    .dataframe tbody tr th {\n",
       "        vertical-align: top;\n",
       "    }\n",
       "\n",
       "    .dataframe thead th {\n",
       "        text-align: right;\n",
       "    }\n",
       "</style>\n",
       "<table border=\"1\" class=\"dataframe\">\n",
       "  <thead>\n",
       "    <tr style=\"text-align: right;\">\n",
       "      <th></th>\n",
       "      <th>rental_byMonth</th>\n",
       "      <th>revenue</th>\n",
       "      <th>saleNumber</th>\n",
       "    </tr>\n",
       "  </thead>\n",
       "  <tbody>\n",
       "    <tr>\n",
       "      <th>0</th>\n",
       "      <td>2005-05</td>\n",
       "      <td>4823.44</td>\n",
       "      <td>1156</td>\n",
       "    </tr>\n",
       "    <tr>\n",
       "      <th>1</th>\n",
       "      <td>2005-06</td>\n",
       "      <td>9629.89</td>\n",
       "      <td>2311</td>\n",
       "    </tr>\n",
       "    <tr>\n",
       "      <th>2</th>\n",
       "      <td>2005-07</td>\n",
       "      <td>28368.91</td>\n",
       "      <td>6709</td>\n",
       "    </tr>\n",
       "    <tr>\n",
       "      <th>3</th>\n",
       "      <td>2005-08</td>\n",
       "      <td>24070.14</td>\n",
       "      <td>5686</td>\n",
       "    </tr>\n",
       "    <tr>\n",
       "      <th>4</th>\n",
       "      <td>2006-02</td>\n",
       "      <td>514.18</td>\n",
       "      <td>182</td>\n",
       "    </tr>\n",
       "  </tbody>\n",
       "</table>\n",
       "</div>"
      ],
      "text/plain": [
       "  rental_byMonth   revenue  saleNumber\n",
       "0        2005-05   4823.44        1156\n",
       "1        2005-06   9629.89        2311\n",
       "2        2005-07  28368.91        6709\n",
       "3        2005-08  24070.14        5686\n",
       "4        2006-02    514.18         182"
      ]
     },
     "execution_count": 14,
     "metadata": {},
     "output_type": "execute_result"
    }
   ],
   "source": [
    "query5 = \"\"\"\n",
    "\n",
    "SELECT STRFTIME('%Y-%m', r.rental_date) as rental_byMonth, SUM(amount) as revenue, COUNT(*) as saleNumber\n",
    "FROM payment as p\n",
    "JOIN rental as r\n",
    "ON p.rental_id = r.rental_id\n",
    "GROUP BY STRFTIME('%Y-%m', r.rental_date)\n",
    "ORDER BY STRFTIME('%Y-%m', r.rental_date) asc\n",
    ";\n",
    "\"\"\"\n",
    "result5 = pd.read_sql_query(query5, conn)\n",
    "result5"
   ]
  },
  {
   "cell_type": "code",
   "execution_count": 15,
   "id": "5b4e0a3c",
   "metadata": {
    "execution": {
     "iopub.execute_input": "2023-12-21T11:49:02.857296Z",
     "iopub.status.busy": "2023-12-21T11:49:02.856163Z",
     "iopub.status.idle": "2023-12-21T11:49:02.920094Z",
     "shell.execute_reply": "2023-12-21T11:49:02.919008Z"
    },
    "papermill": {
     "duration": 0.085202,
     "end_time": "2023-12-21T11:49:02.922502",
     "exception": false,
     "start_time": "2023-12-21T11:49:02.837300",
     "status": "completed"
    },
    "tags": []
   },
   "outputs": [
    {
     "data": {
      "text/html": [
       "<div>\n",
       "<style scoped>\n",
       "    .dataframe tbody tr th:only-of-type {\n",
       "        vertical-align: middle;\n",
       "    }\n",
       "\n",
       "    .dataframe tbody tr th {\n",
       "        vertical-align: top;\n",
       "    }\n",
       "\n",
       "    .dataframe thead th {\n",
       "        text-align: right;\n",
       "    }\n",
       "</style>\n",
       "<table border=\"1\" class=\"dataframe\">\n",
       "  <thead>\n",
       "    <tr style=\"text-align: right;\">\n",
       "      <th></th>\n",
       "      <th>rental_byMonth</th>\n",
       "      <th>lastRentalDate</th>\n",
       "    </tr>\n",
       "  </thead>\n",
       "  <tbody>\n",
       "    <tr>\n",
       "      <th>0</th>\n",
       "      <td>2006-02</td>\n",
       "      <td>2006-02-14 15:16:03.000</td>\n",
       "    </tr>\n",
       "  </tbody>\n",
       "</table>\n",
       "</div>"
      ],
      "text/plain": [
       "  rental_byMonth           lastRentalDate\n",
       "0        2006-02  2006-02-14 15:16:03.000"
      ]
     },
     "execution_count": 15,
     "metadata": {},
     "output_type": "execute_result"
    }
   ],
   "source": [
    "query6 = \"\"\"\n",
    "\n",
    "SELECT STRFTIME('%Y-%m', r.rental_date) as rental_byMonth, max(r.rental_date) as lastRentalDate\n",
    "FROM payment as p\n",
    "JOIN rental as r\n",
    "ON p.rental_id = r.rental_id\n",
    "WHERE rental_byMonth = '2006-02'\n",
    ";\n",
    "\"\"\"\n",
    "result6 = pd.read_sql_query(query6, conn)\n",
    "result6"
   ]
  },
  {
   "cell_type": "markdown",
   "id": "4673f70e",
   "metadata": {
    "papermill": {
     "duration": 0.016924,
     "end_time": "2023-12-21T11:49:02.957404",
     "exception": false,
     "start_time": "2023-12-21T11:49:02.940480",
     "status": "completed"
    },
    "tags": []
   },
   "source": [
    "**Key Findings**:\n",
    "- **Increasing Trend**: There's a clear increasing trend in both revenue and the number of sales from May 2005 to August 2005, with revenue peaking in July 2005 (28,368.91) alongside the highest number of sales (6709).\n",
    "- **Peak Performance**: July 2005 stands out as the most successful month in terms of both revenue and sales.\n",
    "- **Operational Pause or Shutdow**n: The business might have been temporarily closed during 09-2016 01-2006. This could be due to various reasons such as renovation, management change, or other operational reasons.\n",
    "- **Significant Drop in 2006**: February 2006 shows a dramatic drop in both revenue (514.18) and sales numbers (182), indicating a significant decrease in rental activity.\n"
   ]
  },
  {
   "cell_type": "code",
   "execution_count": 16,
   "id": "bbf11146",
   "metadata": {
    "execution": {
     "iopub.execute_input": "2023-12-21T11:49:02.993603Z",
     "iopub.status.busy": "2023-12-21T11:49:02.993220Z",
     "iopub.status.idle": "2023-12-21T11:49:03.650325Z",
     "shell.execute_reply": "2023-12-21T11:49:03.648458Z"
    },
    "papermill": {
     "duration": 0.679312,
     "end_time": "2023-12-21T11:49:03.653845",
     "exception": false,
     "start_time": "2023-12-21T11:49:02.974533",
     "status": "completed"
    },
    "tags": []
   },
   "outputs": [
    {
     "data": {
      "image/png": "[encoded data removed]",
      "text/plain": [
       "<Figure size 1200x600 with 2 Axes>"
      ]
     },
     "metadata": {},
     "output_type": "display_data"
    }
   ],
   "source": [
    "import matplotlib.pyplot as plt\n",
    "import seaborn as sns\n",
    "\n",
    "# Set the style\n",
    "sns.set_style(style='white', rc=None)\n",
    "colors = sns.color_palette('deep')\n",
    "\n",
    "# Create a subplot\n",
    "fig, ax1 = plt.subplots(figsize=(12, 6))\n",
    "# Plot the bar chart\n",
    "sns.barplot(data=result5, x='rental_byMonth', y='saleNumber', ax=ax1, palette=colors)\n",
    "y1_min, y1_max = 0, 8000\n",
    "ax1.set_ylim(y1_min, y1_max)\n",
    "\n",
    "\n",
    "ax2 = ax1.twinx()\n",
    "y2_min, y2_max = 0, 32000 # New limits for the y2 axis\n",
    "ax2.set_ylim(y2_min, y2_max)\n",
    "# Plot the line chart\n",
    "sns.lineplot(data=result5, x='rental_byMonth', y='revenue', marker='o', sort=False, ax=ax2)\n",
    "\n",
    "# Annotate each point on the line chart\n",
    "for i in range(result5.shape[0]):\n",
    "    ax2.annotate(f'{result5.revenue.iloc[i]:.2f}', \n",
    "                 (result5.rental_byMonth.iloc[i], result5.revenue.iloc[i]),\n",
    "                 textcoords=\"offset points\", \n",
    "                 xytext=(0,10),\n",
    "                 ha='center')\n",
    "\n",
    "# Adjust the margins of the plot\n",
    "plt.subplots_adjust(left=0.1, right=0.9, top=0.9, bottom=0.1)\n",
    "plt.title('Monthly Rental Revenue and Sales', fontweight='bold', fontsize=15, pad=20)\n",
    "ax1.set_ylabel('Revenue', fontsize=12, labelpad=20)\n",
    "ax2.set_ylabel('Number of Sales', fontsize=12, labelpad=20)\n",
    "ax1.set_xlabel('Month', fontsize=12, labelpad=20)\n",
    "plt.show()\n"
   ]
  },
  {
   "cell_type": "markdown",
   "id": "79fb05bc",
   "metadata": {
    "papermill": {
     "duration": 0.020306,
     "end_time": "2023-12-21T11:49:03.693507",
     "exception": false,
     "start_time": "2023-12-21T11:49:03.673201",
     "status": "completed"
    },
    "tags": []
   },
   "source": [
    "## Sales Comparison by Store"
   ]
  },
  {
   "cell_type": "code",
   "execution_count": 17,
   "id": "35ad504f",
   "metadata": {
    "execution": {
     "iopub.execute_input": "2023-12-21T11:49:03.732367Z",
     "iopub.status.busy": "2023-12-21T11:49:03.731950Z",
     "iopub.status.idle": "2023-12-21T11:49:03.809752Z",
     "shell.execute_reply": "2023-12-21T11:49:03.808726Z"
    },
    "papermill": {
     "duration": 0.09994,
     "end_time": "2023-12-21T11:49:03.812121",
     "exception": false,
     "start_time": "2023-12-21T11:49:03.712181",
     "status": "completed"
    },
    "tags": []
   },
   "outputs": [
    {
     "data": {
      "text/html": [
       "<div>\n",
       "<style scoped>\n",
       "    .dataframe tbody tr th:only-of-type {\n",
       "        vertical-align: middle;\n",
       "    }\n",
       "\n",
       "    .dataframe tbody tr th {\n",
       "        vertical-align: top;\n",
       "    }\n",
       "\n",
       "    .dataframe thead th {\n",
       "        text-align: right;\n",
       "    }\n",
       "</style>\n",
       "<table border=\"1\" class=\"dataframe\">\n",
       "  <thead>\n",
       "    <tr style=\"text-align: right;\">\n",
       "      <th></th>\n",
       "      <th>store</th>\n",
       "      <th>revenue</th>\n",
       "      <th>saleNumber</th>\n",
       "    </tr>\n",
       "  </thead>\n",
       "  <tbody>\n",
       "    <tr>\n",
       "      <th>0</th>\n",
       "      <td>1</td>\n",
       "      <td>36997.53</td>\n",
       "      <td>8747</td>\n",
       "    </tr>\n",
       "    <tr>\n",
       "      <th>1</th>\n",
       "      <td>2</td>\n",
       "      <td>30409.03</td>\n",
       "      <td>7297</td>\n",
       "    </tr>\n",
       "  </tbody>\n",
       "</table>\n",
       "</div>"
      ],
      "text/plain": [
       "   store   revenue  saleNumber\n",
       "0      1  36997.53        8747\n",
       "1      2  30409.03        7297"
      ]
     },
     "execution_count": 17,
     "metadata": {},
     "output_type": "execute_result"
    }
   ],
   "source": [
    "query7 = \"\"\"\n",
    "\n",
    "SELECT s.store_id as store, SUM(amount) as revenue, COUNT(*) as saleNumber\n",
    "FROM payment as p\n",
    "JOIN rental as r\n",
    "ON p.rental_id = r.rental_id\n",
    "\n",
    "JOIN customer as c\n",
    "ON p.customer_id = c.customer_id\n",
    "\n",
    "JOIN store as s\n",
    "ON s.store_id = c.store_id\n",
    "\n",
    "GROUP BY s.store_id\n",
    "\n",
    ";\n",
    "\"\"\"\n",
    "result7 = pd.read_sql_query(query7, conn)\n",
    "result7"
   ]
  },
  {
   "cell_type": "markdown",
   "id": "befc2972",
   "metadata": {
    "papermill": {
     "duration": 0.018717,
     "end_time": "2023-12-21T11:49:03.850055",
     "exception": false,
     "start_time": "2023-12-21T11:49:03.831338",
     "status": "completed"
    },
    "tags": []
   },
   "source": [
    "**Key Findings**:\n",
    "- **Store 1 Performance**: Store 1 has generated higher revenue (36,997.53) with a greater number of sales (8747) compared to Store 2.\n",
    "- **Store 2 Performance**: While Store 2 has lower figures, with a total revenue of 30,409.03 and 7297 sales, it still represents a significant portion of the business.\n",
    "- **Revenue and Sales Correlation**: There is a direct correlation between the number of sales and the revenue generated in each store, with higher sales numbers leading to higher revenue."
   ]
  },
  {
   "cell_type": "code",
   "execution_count": 18,
   "id": "1c2ed746",
   "metadata": {
    "execution": {
     "iopub.execute_input": "2023-12-21T11:49:03.889379Z",
     "iopub.status.busy": "2023-12-21T11:49:03.888998Z",
     "iopub.status.idle": "2023-12-21T11:49:04.165152Z",
     "shell.execute_reply": "2023-12-21T11:49:04.164030Z"
    },
    "papermill": {
     "duration": 0.298706,
     "end_time": "2023-12-21T11:49:04.167682",
     "exception": false,
     "start_time": "2023-12-21T11:49:03.868976",
     "status": "completed"
    },
    "tags": []
   },
   "outputs": [
    {
     "data": {
      "image/png": "[encoded data removed]",
      "text/plain": [
       "<Figure size 800x600 with 1 Axes>"
      ]
     },
     "metadata": {},
     "output_type": "display_data"
    }
   ],
   "source": [
    "colors = sns.color_palette('deep')\n",
    "\n",
    "# Set the positions of the bars on the x-axis\n",
    "barWidth = 0.35\n",
    "r1 = range(len(result7))\n",
    "\n",
    "# Define pastel colors\n",
    "pastel_colors = ['#ff9999','#66b3ff'] # Example pastel colors: light pink and light blue\n",
    "\n",
    "# Create the bar chart with pastel colors\n",
    "plt.figure(figsize=(8,6))\n",
    "bars = plt.bar(r1, result7['saleNumber'], color=colors, width=barWidth, edgecolor='grey')\n",
    "\n",
    "# Add labels to the graph\n",
    "plt.xlabel('Store', fontsize=12, labelpad=20)\n",
    "plt.xticks([r for r in range(len(result7))], ['Store 1', 'Store 2'])\n",
    "plt.ylabel('Sale Number', fontsize=12, labelpad=20)\n",
    "plt.title('Sales Comparison by Store', fontweight='bold', fontsize=15, pad=20)\n",
    "\n",
    "# Adding annotations\n",
    "for bar in bars:\n",
    "    yval = bar.get_height()\n",
    "    plt.text(bar.get_x() + bar.get_width()/2, yval, int(yval), va='bottom', ha='center', fontweight='bold')\n",
    "\n",
    "# Create legend & Show graphic\n",
    "plt.show()\n"
   ]
  },
  {
   "cell_type": "markdown",
   "id": "1e90f98c",
   "metadata": {
    "papermill": {
     "duration": 0.018765,
     "end_time": "2023-12-21T11:49:04.205839",
     "exception": false,
     "start_time": "2023-12-21T11:49:04.187074",
     "status": "completed"
    },
    "tags": []
   },
   "source": [
    "## Comparative Analysis of Film Replacement Costs Across Genres"
   ]
  },
  {
   "cell_type": "code",
   "execution_count": 19,
   "id": "45cdbef6",
   "metadata": {
    "execution": {
     "iopub.execute_input": "2023-12-21T11:49:04.246576Z",
     "iopub.status.busy": "2023-12-21T11:49:04.245411Z",
     "iopub.status.idle": "2023-12-21T11:49:04.283606Z",
     "shell.execute_reply": "2023-12-21T11:49:04.282496Z"
    },
    "papermill": {
     "duration": 0.061287,
     "end_time": "2023-12-21T11:49:04.286174",
     "exception": false,
     "start_time": "2023-12-21T11:49:04.224887",
     "status": "completed"
    },
    "tags": []
   },
   "outputs": [
    {
     "data": {
      "text/html": [
       "<div>\n",
       "<style scoped>\n",
       "    .dataframe tbody tr th:only-of-type {\n",
       "        vertical-align: middle;\n",
       "    }\n",
       "\n",
       "    .dataframe tbody tr th {\n",
       "        vertical-align: top;\n",
       "    }\n",
       "\n",
       "    .dataframe thead th {\n",
       "        text-align: right;\n",
       "    }\n",
       "</style>\n",
       "<table border=\"1\" class=\"dataframe\">\n",
       "  <thead>\n",
       "    <tr style=\"text-align: right;\">\n",
       "      <th></th>\n",
       "      <th>name</th>\n",
       "      <th>replacement_cost</th>\n",
       "    </tr>\n",
       "  </thead>\n",
       "  <tbody>\n",
       "    <tr>\n",
       "      <th>0</th>\n",
       "      <td>Documentary</td>\n",
       "      <td>20.99</td>\n",
       "    </tr>\n",
       "    <tr>\n",
       "      <th>1</th>\n",
       "      <td>Horror</td>\n",
       "      <td>12.99</td>\n",
       "    </tr>\n",
       "    <tr>\n",
       "      <th>2</th>\n",
       "      <td>Documentary</td>\n",
       "      <td>18.99</td>\n",
       "    </tr>\n",
       "    <tr>\n",
       "      <th>3</th>\n",
       "      <td>Horror</td>\n",
       "      <td>26.99</td>\n",
       "    </tr>\n",
       "    <tr>\n",
       "      <th>4</th>\n",
       "      <td>Family</td>\n",
       "      <td>22.99</td>\n",
       "    </tr>\n",
       "    <tr>\n",
       "      <th>...</th>\n",
       "      <td>...</td>\n",
       "      <td>...</td>\n",
       "    </tr>\n",
       "    <tr>\n",
       "      <th>995</th>\n",
       "      <td>Documentary</td>\n",
       "      <td>9.99</td>\n",
       "    </tr>\n",
       "    <tr>\n",
       "      <th>996</th>\n",
       "      <td>Music</td>\n",
       "      <td>14.99</td>\n",
       "    </tr>\n",
       "    <tr>\n",
       "      <th>997</th>\n",
       "      <td>Horror</td>\n",
       "      <td>10.99</td>\n",
       "    </tr>\n",
       "    <tr>\n",
       "      <th>998</th>\n",
       "      <td>Children</td>\n",
       "      <td>28.99</td>\n",
       "    </tr>\n",
       "    <tr>\n",
       "      <th>999</th>\n",
       "      <td>Comedy</td>\n",
       "      <td>18.99</td>\n",
       "    </tr>\n",
       "  </tbody>\n",
       "</table>\n",
       "<p>1000 rows × 2 columns</p>\n",
       "</div>"
      ],
      "text/plain": [
       "            name  replacement_cost\n",
       "0    Documentary             20.99\n",
       "1         Horror             12.99\n",
       "2    Documentary             18.99\n",
       "3         Horror             26.99\n",
       "4         Family             22.99\n",
       "..           ...               ...\n",
       "995  Documentary              9.99\n",
       "996        Music             14.99\n",
       "997       Horror             10.99\n",
       "998     Children             28.99\n",
       "999       Comedy             18.99\n",
       "\n",
       "[1000 rows x 2 columns]"
      ]
     },
     "execution_count": 19,
     "metadata": {},
     "output_type": "execute_result"
    }
   ],
   "source": [
    "query8 = \"\"\"\n",
    "\n",
    "SELECT c.name, f.replacement_cost\n",
    "FROM film as f\n",
    "JOIN film_category as fc\n",
    "ON f.film_id = fc.film_id\n",
    "\n",
    "JOIN category as c\n",
    "ON fc.category_id = c.category_id\n",
    ";\n",
    "\"\"\"\n",
    "result8 = pd.read_sql_query(query8, conn)\n",
    "result8"
   ]
  },
  {
   "cell_type": "code",
   "execution_count": 20,
   "id": "23640b45",
   "metadata": {
    "execution": {
     "iopub.execute_input": "2023-12-21T11:49:04.327257Z",
     "iopub.status.busy": "2023-12-21T11:49:04.326855Z",
     "iopub.status.idle": "2023-12-21T11:49:04.438958Z",
     "shell.execute_reply": "2023-12-21T11:49:04.437951Z"
    },
    "papermill": {
     "duration": 0.135245,
     "end_time": "2023-12-21T11:49:04.441530",
     "exception": false,
     "start_time": "2023-12-21T11:49:04.306285",
     "status": "completed"
    },
    "tags": []
   },
   "outputs": [
    {
     "data": {
      "text/html": [
       "<div>                            <div id=\"cd7df70b-2f81-4757-aebd-628db6e9d09a\" class=\"plotly-graph-div\" style=\"height:525px; width:100%;\"></div>            <script type=\"text/javascript\">                require([\"plotly\"], function(Plotly) {                    window.PLOTLYENV=window.PLOTLYENV || {};                                    if (document.getElementById(\"cd7df70b-2f81-4757-aebd-628db6e9d09a\")) {                    Plotly.newPlot(                        \"cd7df70b-2f81-4757-aebd-628db6e9d09a\",                        [{\"alignmentgroup\":\"True\",\"boxpoints\":\"all\",\"hovertemplate\":\"Category Name=%{x}\\u003cbr\\u003eReplacement Cost=%{y}\\u003cextra\\u003e\\u003c\\u002fextra\\u003e\",\"legendgroup\":\"\",\"marker\":{\"color\":\"#636efa\"},\"name\":\"\",\"notched\":true,\"offsetgroup\":\"\",\"orientation\":\"v\",\"showlegend\":false,\"x\":[\"Documentary\",\"Horror\",\"Documentary\",\"Horror\",\"Family\",\"Foreign\",\"Comedy\",\"Horror\",\"Horror\",\"Sports\",\"Foreign\",\"Music\",\"Horror\",\"Classics\",\"Foreign\",\"Foreign\",\"Music\",\"Animation\",\"Action\",\"Music\",\"Action\",\"New\",\"Animation\",\"Horror\",\"New\",\"Sci-Fi\",\"Sports\",\"Comedy\",\"Action\",\"Horror\",\"Family\",\"New\",\"Drama\",\"Horror\",\"Horror\",\"Animation\",\"Classics\",\"Action\",\"Sci-Fi\",\"Documentary\",\"Travel\",\"Sports\",\"Family\",\"Sci-Fi\",\"New\",\"Games\",\"Foreign\",\"Children\",\"Sci-Fi\",\"Family\",\"Music\",\"Foreign\",\"Family\",\"Music\",\"Sci-Fi\",\"Action\",\"Travel\",\"Documentary\",\"Children\",\"Classics\",\"Drama\",\"Documentary\",\"Family\",\"Drama\",\"Horror\",\"Children\",\"Action\",\"Children\",\"Sci-Fi\",\"Animation\",\"Family\",\"Documentary\",\"Sci-Fi\",\"Music\",\"Travel\",\"Music\",\"New\",\"Animation\",\"Drama\",\"Family\",\"Sci-Fi\",\"Family\",\"Family\",\"Travel\",\"Documentary\",\"Music\",\"Travel\",\"Travel\",\"Animation\",\"New\",\"Classics\",\"Horror\",\"New\",\"Family\",\"New\",\"New\",\"Action\",\"Drama\",\"Comedy\",\"Foreign\",\"Documentary\",\"Sports\",\"Travel\",\"Foreign\",\"Action\",\"Games\",\"Drama\",\"New\",\"New\",\"Children\",\"Action\",\"Foreign\",\"Sports\",\"Sci-Fi\",\"Action\",\"Classics\",\"Games\",\"Animation\",\"Comedy\",\"Sports\",\"Animation\",\"Horror\",\"Travel\",\"Children\",\"Travel\",\"Action\",\"Comedy\",\"Foreign\",\"Documentary\",\"Action\",\"Classics\",\"Sci-Fi\",\"Music\",\"Animation\",\"Sports\",\"New\",\"Sci-Fi\",\"Sci-Fi\",\"Family\",\"Sci-Fi\",\"Games\",\"Documentary\",\"Drama\",\"New\",\"Family\",\"Drama\",\"Family\",\"Foreign\",\"Children\",\"Documentary\",\"Sci-Fi\",\"Children\",\"Sci-Fi\",\"Animation\",\"New\",\"Documentary\",\"Children\",\"Music\",\"Comedy\",\"Animation\",\"Music\",\"Action\",\"New\",\"Documentary\",\"Sci-Fi\",\"Classics\",\"Travel\",\"Children\",\"Travel\",\"Foreign\",\"Horror\",\"Drama\",\"Drama\",\"Music\",\"Family\",\"Sports\",\"Sci-Fi\",\"Comedy\",\"Drama\",\"Classics\",\"Travel\",\"Comedy\",\"Family\",\"Classics\",\"Foreign\",\"Drama\",\"Sports\",\"Comedy\",\"Games\",\"Classics\",\"Children\",\"Foreign\",\"Animation\",\"Action\",\"Sci-Fi\",\"Classics\",\"Sports\",\"Foreign\",\"Documentary\",\"Games\",\"Foreign\",\"Comedy\",\"Sci-Fi\",\"Drama\",\"Action\",\"Documentary\",\"Foreign\",\"Animation\",\"Drama\",\"Action\",\"Games\",\"Action\",\"Family\",\"Children\",\"Games\",\"New\",\"Games\",\"Drama\",\"Documentary\",\"Music\",\"Documentary\",\"Horror\",\"Animation\",\"Travel\",\"Drama\",\"New\",\"Games\",\"Classics\",\"Action\",\"Drama\",\"Family\",\"Games\",\"Travel\",\"Sci-Fi\",\"Sci-Fi\",\"Games\",\"Sports\",\"Children\",\"Animation\",\"Sci-Fi\",\"Animation\",\"Comedy\",\"Animation\",\"Music\",\"Animation\",\"Foreign\",\"Comedy\",\"Documentary\",\"Classics\",\"Action\",\"New\",\"Action\",\"Action\",\"Sports\",\"Music\",\"Sports\",\"Travel\",\"Horror\",\"Animation\",\"Sports\",\"Documentary\",\"Family\",\"Sports\",\"Games\",\"Comedy\",\"Classics\",\"New\",\"Animation\",\"Family\",\"New\",\"Action\",\"Drama\",\"Family\",\"Documentary\",\"Horror\",\"Comedy\",\"Horror\",\"Music\",\"Sports\",\"Children\",\"Games\",\"Drama\",\"New\",\"Music\",\"Sci-Fi\",\"Travel\",\"Action\",\"Travel\",\"New\",\"Foreign\",\"Sports\",\"Action\",\"Sports\",\"Travel\",\"Documentary\",\"Sci-Fi\",\"Classics\",\"Sci-Fi\",\"Travel\",\"Animation\",\"Horror\",\"Games\",\"Action\",\"Children\",\"New\",\"Games\",\"Travel\",\"Comedy\",\"Family\",\"Games\",\"Foreign\",\"Sci-Fi\",\"Horror\",\"Animation\",\"Family\",\"Games\",\"Comedy\",\"Action\",\"Sci-Fi\",\"New\",\"New\",\"Sports\",\"Sports\",\"Comedy\",\"Animation\",\"Animation\",\"Action\",\"Children\",\"Action\",\"Animation\",\"Games\",\"Comedy\",\"Music\",\"Horror\",\"Comedy\",\"Documentary\",\"Foreign\",\"Sci-Fi\",\"Travel\",\"New\",\"Classics\",\"Travel\",\"Children\",\"Children\",\"Family\",\"Classics\",\"Travel\",\"Family\",\"Animation\",\"Sci-Fi\",\"Horror\",\"Games\",\"Foreign\",\"Children\",\"Animation\",\"Children\",\"Classics\",\"Classics\",\"Family\",\"Action\",\"Sports\",\"Games\",\"Music\",\"New\",\"Comedy\",\"Drama\",\"Sci-Fi\",\"Drama\",\"Sci-Fi\",\"Children\",\"Action\",\"Sports\",\"Children\",\"Sci-Fi\",\"Action\",\"Foreign\",\"Family\",\"Music\",\"Drama\",\"Foreign\",\"Games\",\"Games\",\"Sports\",\"Music\",\"Comedy\",\"Travel\",\"Games\",\"Comedy\",\"Sports\",\"Sci-Fi\",\"Family\",\"Children\",\"Documentary\",\"Sci-Fi\",\"Action\",\"Drama\",\"Sci-Fi\",\"Music\",\"Foreign\",\"Documentary\",\"Drama\",\"Animation\",\"Drama\",\"Comedy\",\"Travel\",\"Games\",\"Documentary\",\"Games\",\"Children\",\"Comedy\",\"Music\",\"Documentary\",\"Comedy\",\"Foreign\",\"Horror\",\"Foreign\",\"Action\",\"Drama\",\"Family\",\"Sports\",\"Foreign\",\"Sci-Fi\",\"Children\",\"Children\",\"Classics\",\"Music\",\"Documentary\",\"Family\",\"Sports\",\"Animation\",\"Foreign\",\"Classics\",\"Animation\",\"Travel\",\"Foreign\",\"New\",\"Family\",\"Games\",\"Drama\",\"Foreign\",\"Documentary\",\"Family\",\"Comedy\",\"Comedy\",\"Classics\",\"Sports\",\"Games\",\"New\",\"Sci-Fi\",\"Children\",\"Travel\",\"Foreign\",\"Sports\",\"Music\",\"Foreign\",\"Animation\",\"Documentary\",\"Family\",\"Foreign\",\"Foreign\",\"Animation\",\"Music\",\"Sports\",\"Animation\",\"New\",\"Documentary\",\"Foreign\",\"Children\",\"Classics\",\"Animation\",\"Classics\",\"Travel\",\"Drama\",\"Sports\",\"Horror\",\"Family\",\"Music\",\"Comedy\",\"Family\",\"Classics\",\"New\",\"Classics\",\"Games\",\"Classics\",\"Children\",\"Foreign\",\"Classics\",\"Sports\",\"Animation\",\"New\",\"Children\",\"New\",\"Foreign\",\"Horror\",\"Horror\",\"Travel\",\"Documentary\",\"Family\",\"Family\",\"Foreign\",\"Action\",\"Comedy\",\"Sports\",\"Drama\",\"Children\",\"Horror\",\"Games\",\"Games\",\"Children\",\"Animation\",\"Action\",\"Classics\",\"Travel\",\"Drama\",\"Children\",\"Music\",\"Sports\",\"Travel\",\"Sports\",\"Sci-Fi\",\"Drama\",\"Comedy\",\"Classics\",\"Comedy\",\"Classics\",\"Travel\",\"Horror\",\"Family\",\"Comedy\",\"Action\",\"Foreign\",\"Sports\",\"Foreign\",\"Family\",\"Horror\",\"Classics\",\"Classics\",\"New\",\"Drama\",\"Music\",\"Animation\",\"Action\",\"Travel\",\"Documentary\",\"Foreign\",\"Games\",\"Children\",\"Classics\",\"Action\",\"Family\",\"New\",\"Documentary\",\"Children\",\"Classics\",\"Comedy\",\"Games\",\"Family\",\"New\",\"Sci-Fi\",\"Games\",\"New\",\"Music\",\"Games\",\"Animation\",\"Foreign\",\"Foreign\",\"Foreign\",\"Comedy\",\"Animation\",\"Sports\",\"Documentary\",\"Sci-Fi\",\"Children\",\"Action\",\"Documentary\",\"Documentary\",\"Sports\",\"Classics\",\"Action\",\"New\",\"Music\",\"Animation\",\"Animation\",\"Foreign\",\"Drama\",\"Action\",\"Documentary\",\"Children\",\"Documentary\",\"New\",\"Games\",\"Music\",\"Horror\",\"Action\",\"Foreign\",\"Games\",\"Games\",\"Sports\",\"Sports\",\"Horror\",\"Travel\",\"Sci-Fi\",\"Family\",\"Comedy\",\"Foreign\",\"Sports\",\"Foreign\",\"Children\",\"Travel\",\"Family\",\"Classics\",\"Sports\",\"Comedy\",\"Games\",\"Animation\",\"Documentary\",\"Family\",\"Drama\",\"Sports\",\"Sci-Fi\",\"Family\",\"Documentary\",\"Foreign\",\"Games\",\"Sci-Fi\",\"Children\",\"Documentary\",\"Sports\",\"Documentary\",\"Drama\",\"Sports\",\"New\",\"Classics\",\"Family\",\"New\",\"Music\",\"Sci-Fi\",\"Comedy\",\"Family\",\"Foreign\",\"Foreign\",\"Travel\",\"Drama\",\"Animation\",\"Travel\",\"Games\",\"Music\",\"Travel\",\"Animation\",\"Documentary\",\"Animation\",\"Classics\",\"Horror\",\"Games\",\"Sci-Fi\",\"Travel\",\"Comedy\",\"Horror\",\"Action\",\"Comedy\",\"Foreign\",\"Drama\",\"Classics\",\"Action\",\"Horror\",\"Drama\",\"Sports\",\"Sports\",\"Foreign\",\"Documentary\",\"Sports\",\"Comedy\",\"Music\",\"Foreign\",\"New\",\"Sports\",\"New\",\"Sports\",\"Family\",\"Comedy\",\"Sports\",\"Family\",\"Drama\",\"Games\",\"New\",\"New\",\"Documentary\",\"Children\",\"Foreign\",\"Animation\",\"Sports\",\"Animation\",\"Animation\",\"Classics\",\"Family\",\"Animation\",\"Action\",\"Documentary\",\"Games\",\"Family\",\"Games\",\"Horror\",\"Animation\",\"Comedy\",\"Foreign\",\"Drama\",\"Action\",\"Documentary\",\"Drama\",\"Family\",\"Sci-Fi\",\"Documentary\",\"Documentary\",\"Sci-Fi\",\"Family\",\"Horror\",\"Action\",\"Music\",\"Sports\",\"New\",\"Music\",\"Horror\",\"Sci-Fi\",\"Family\",\"Classics\",\"Foreign\",\"Family\",\"Drama\",\"Sports\",\"New\",\"Classics\",\"Action\",\"Sports\",\"Documentary\",\"Children\",\"Family\",\"Horror\",\"Foreign\",\"Drama\",\"Horror\",\"Music\",\"Games\",\"Animation\",\"Classics\",\"Sports\",\"Games\",\"Games\",\"Action\",\"Horror\",\"New\",\"New\",\"Music\",\"Family\",\"Comedy\",\"Children\",\"Comedy\",\"Documentary\",\"Drama\",\"New\",\"New\",\"Children\",\"Games\",\"Sports\",\"Sports\",\"Comedy\",\"Drama\",\"Music\",\"Children\",\"Foreign\",\"Foreign\",\"Drama\",\"Drama\",\"Sports\",\"Comedy\",\"Drama\",\"Documentary\",\"Sports\",\"Family\",\"Sports\",\"Family\",\"Games\",\"Sports\",\"Travel\",\"Travel\",\"Travel\",\"Children\",\"Travel\",\"Documentary\",\"Foreign\",\"Drama\",\"Documentary\",\"Foreign\",\"Action\",\"Action\",\"Family\",\"Sports\",\"Music\",\"Sci-Fi\",\"Horror\",\"Horror\",\"Children\",\"Action\",\"Drama\",\"Horror\",\"Animation\",\"New\",\"Games\",\"Classics\",\"Sports\",\"Family\",\"Travel\",\"Documentary\",\"Sports\",\"Comedy\",\"Classics\",\"Animation\",\"Sci-Fi\",\"Drama\",\"Music\",\"Animation\",\"Foreign\",\"Family\",\"Action\",\"Family\",\"Action\",\"Travel\",\"Drama\",\"Classics\",\"Family\",\"Horror\",\"Sci-Fi\",\"Family\",\"Children\",\"Documentary\",\"Games\",\"Sports\",\"Comedy\",\"Action\",\"Sci-Fi\",\"Games\",\"Sports\",\"Games\",\"Classics\",\"Sports\",\"Foreign\",\"New\",\"New\",\"Travel\",\"Animation\",\"Action\",\"Sports\",\"Children\",\"Children\",\"Horror\",\"Documentary\",\"Horror\",\"Comedy\",\"Comedy\",\"Animation\",\"Sci-Fi\",\"Games\",\"Classics\",\"Sci-Fi\",\"Children\",\"Animation\",\"Family\",\"Family\",\"Travel\",\"Action\",\"Horror\",\"Comedy\",\"Travel\",\"Children\",\"Classics\",\"Sports\",\"Horror\",\"Music\",\"Travel\",\"Music\",\"Animation\",\"Horror\",\"Drama\",\"Children\",\"Music\",\"Horror\",\"Animation\",\"Animation\",\"Documentary\",\"Children\",\"Sports\",\"Classics\",\"Animation\",\"Sci-Fi\",\"Travel\",\"Classics\",\"Children\",\"Drama\",\"Sports\",\"Classics\",\"Foreign\",\"Animation\",\"Sports\",\"Travel\",\"Horror\",\"Comedy\",\"Comedy\",\"Drama\",\"Foreign\",\"Horror\",\"Drama\",\"Action\",\"Sci-Fi\",\"New\",\"Travel\",\"Action\",\"Animation\",\"Sports\",\"Children\",\"Games\",\"New\",\"Music\",\"Horror\",\"Drama\",\"Sci-Fi\",\"Documentary\",\"Documentary\",\"Action\",\"Children\",\"Foreign\",\"Sci-Fi\",\"Travel\",\"Comedy\",\"New\",\"Games\",\"New\",\"Music\",\"New\",\"Comedy\",\"Comedy\",\"Sports\",\"Games\",\"Drama\",\"Documentary\",\"Drama\",\"Documentary\",\"Family\",\"Foreign\",\"New\",\"Games\",\"Classics\",\"Classics\",\"Documentary\",\"Animation\",\"New\",\"Children\",\"Games\",\"Foreign\",\"Drama\",\"Children\",\"Documentary\",\"Foreign\",\"Classics\",\"Animation\",\"Action\",\"Horror\",\"Documentary\",\"Sci-Fi\",\"Action\",\"Drama\",\"Classics\",\"Foreign\",\"Sci-Fi\",\"Documentary\",\"New\",\"Family\",\"Games\",\"Travel\",\"Comedy\",\"Drama\",\"Music\",\"Travel\",\"Action\",\"Music\",\"Foreign\",\"Sci-Fi\",\"Animation\",\"Music\",\"Travel\",\"Travel\",\"Horror\",\"Action\",\"Documentary\",\"Children\",\"New\",\"Horror\",\"Documentary\",\"Music\",\"Horror\",\"Children\",\"Comedy\"],\"x0\":\" \",\"xaxis\":\"x\",\"y\":[20.99,12.99,18.99,26.99,22.99,17.99,28.99,15.99,21.99,24.99,16.99,22.99,21.99,23.99,10.99,23.99,14.99,27.99,20.99,23.99,17.99,10.99,9.99,19.99,15.99,15.99,12.99,16.99,11.99,27.99,16.99,11.99,15.99,29.99,24.99,12.99,28.99,25.99,10.99,22.99,17.99,10.99,15.99,21.99,14.99,13.99,23.99,24.99,22.99,20.99,10.99,29.99,25.99,15.99,27.99,15.99,18.99,16.99,20.99,22.99,28.99,23.99,21.99,26.99,20.99,27.99,24.99,26.99,21.99,26.99,25.99,12.99,22.99,18.99,14.99,23.99,15.99,12.99,10.99,21.99,29.99,13.99,18.99,13.99,29.99,11.99,14.99,17.99,22.99,11.99,17.99,19.99,27.99,14.99,18.99,21.99,24.99,12.99,14.99,21.99,26.99,20.99,27.99,17.99,21.99,14.99,13.99,19.99,17.99,25.99,17.99,22.99,19.99,26.99,27.99,10.99,15.99,26.99,22.99,16.99,15.99,11.99,22.99,16.99,19.99,16.99,14.99,10.99,16.99,24.99,12.99,25.99,14.99,21.99,22.99,26.99,21.99,29.99,21.99,23.99,11.99,24.99,17.99,24.99,25.99,24.99,16.99,13.99,21.99,9.99,26.99,13.99,18.99,12.99,26.99,15.99,29.99,16.99,12.99,12.99,27.99,13.99,29.99,20.99,27.99,19.99,10.99,23.99,19.99,28.99,13.99,12.99,25.99,13.99,27.99,21.99,20.99,25.99,14.99,27.99,10.99,9.99,14.99,24.99,10.99,17.99,12.99,24.99,23.99,23.99,27.99,19.99,20.99,22.99,16.99,29.99,27.99,22.99,29.99,27.99,18.99,26.99,9.99,25.99,22.99,25.99,26.99,16.99,24.99,13.99,20.99,14.99,19.99,13.99,27.99,16.99,20.99,22.99,20.99,13.99,9.99,27.99,24.99,29.99,19.99,20.99,17.99,16.99,12.99,20.99,27.99,29.99,17.99,27.99,13.99,19.99,21.99,29.99,16.99,10.99,20.99,13.99,22.99,26.99,28.99,16.99,19.99,20.99,26.99,26.99,19.99,18.99,18.99,11.99,21.99,20.99,14.99,11.99,15.99,9.99,13.99,17.99,14.99,13.99,28.99,27.99,14.99,27.99,22.99,29.99,12.99,9.99,14.99,20.99,11.99,28.99,24.99,19.99,11.99,26.99,9.99,20.99,10.99,23.99,18.99,16.99,19.99,20.99,25.99,29.99,10.99,20.99,17.99,26.99,14.99,23.99,29.99,13.99,9.99,21.99,24.99,29.99,27.99,28.99,24.99,12.99,9.99,13.99,29.99,20.99,14.99,20.99,11.99,13.99,10.99,18.99,25.99,14.99,22.99,28.99,21.99,29.99,22.99,11.99,29.99,18.99,24.99,28.99,15.99,22.99,25.99,16.99,16.99,21.99,23.99,22.99,11.99,23.99,17.99,14.99,13.99,28.99,14.99,28.99,17.99,13.99,17.99,9.99,27.99,21.99,10.99,22.99,22.99,18.99,18.99,10.99,13.99,29.99,20.99,24.99,25.99,13.99,12.99,14.99,21.99,29.99,20.99,20.99,22.99,26.99,17.99,26.99,14.99,29.99,17.99,20.99,20.99,24.99,14.99,11.99,25.99,21.99,13.99,19.99,26.99,12.99,27.99,16.99,9.99,20.99,25.99,13.99,19.99,21.99,28.99,18.99,26.99,21.99,23.99,15.99,10.99,15.99,18.99,26.99,13.99,22.99,12.99,28.99,9.99,19.99,13.99,25.99,16.99,23.99,23.99,10.99,29.99,27.99,19.99,27.99,10.99,25.99,29.99,12.99,20.99,15.99,19.99,21.99,29.99,23.99,12.99,22.99,23.99,25.99,28.99,14.99,13.99,22.99,28.99,21.99,21.99,24.99,11.99,22.99,11.99,19.99,28.99,25.99,12.99,29.99,12.99,15.99,17.99,20.99,11.99,18.99,21.99,26.99,23.99,26.99,14.99,17.99,21.99,13.99,17.99,20.99,10.99,12.99,27.99,24.99,23.99,24.99,16.99,21.99,29.99,9.99,15.99,10.99,12.99,29.99,22.99,12.99,29.99,13.99,16.99,14.99,29.99,23.99,14.99,13.99,18.99,11.99,18.99,21.99,10.99,10.99,15.99,11.99,24.99,11.99,9.99,21.99,24.99,25.99,24.99,14.99,13.99,18.99,26.99,29.99,23.99,25.99,21.99,17.99,14.99,18.99,28.99,15.99,27.99,28.99,28.99,9.99,21.99,13.99,29.99,10.99,24.99,25.99,12.99,27.99,18.99,28.99,21.99,18.99,21.99,18.99,29.99,19.99,21.99,10.99,21.99,28.99,20.99,11.99,14.99,27.99,19.99,27.99,28.99,22.99,9.99,15.99,12.99,22.99,25.99,26.99,27.99,18.99,22.99,21.99,26.99,12.99,16.99,11.99,9.99,20.99,26.99,11.99,18.99,20.99,26.99,9.99,22.99,19.99,27.99,13.99,10.99,16.99,22.99,12.99,16.99,19.99,26.99,26.99,25.99,27.99,20.99,11.99,20.99,17.99,20.99,28.99,13.99,22.99,20.99,25.99,12.99,22.99,20.99,16.99,20.99,14.99,27.99,10.99,13.99,15.99,18.99,11.99,23.99,17.99,17.99,10.99,19.99,11.99,21.99,19.99,24.99,21.99,20.99,23.99,23.99,25.99,9.99,25.99,18.99,12.99,9.99,24.99,9.99,19.99,11.99,10.99,10.99,14.99,15.99,12.99,16.99,23.99,9.99,21.99,21.99,13.99,22.99,29.99,18.99,12.99,18.99,17.99,14.99,27.99,20.99,14.99,15.99,19.99,22.99,9.99,12.99,19.99,14.99,11.99,17.99,9.99,29.99,12.99,22.99,27.99,20.99,25.99,10.99,17.99,27.99,17.99,19.99,11.99,17.99,16.99,25.99,23.99,17.99,21.99,20.99,17.99,19.99,11.99,10.99,9.99,15.99,12.99,14.99,25.99,29.99,10.99,16.99,15.99,12.99,20.99,16.99,29.99,26.99,13.99,11.99,12.99,18.99,25.99,9.99,22.99,29.99,19.99,19.99,18.99,18.99,11.99,14.99,29.99,25.99,26.99,23.99,24.99,11.99,20.99,23.99,26.99,29.99,15.99,25.99,29.99,12.99,26.99,28.99,28.99,29.99,17.99,29.99,12.99,26.99,21.99,28.99,27.99,17.99,13.99,28.99,25.99,27.99,23.99,23.99,10.99,9.99,16.99,19.99,25.99,17.99,27.99,20.99,17.99,11.99,10.99,28.99,11.99,29.99,21.99,23.99,29.99,26.99,28.99,18.99,25.99,13.99,11.99,21.99,13.99,23.99,24.99,28.99,22.99,18.99,11.99,10.99,24.99,23.99,15.99,15.99,26.99,22.99,20.99,20.99,14.99,12.99,15.99,15.99,22.99,24.99,15.99,14.99,28.99,23.99,12.99,23.99,11.99,26.99,19.99,19.99,15.99,29.99,13.99,12.99,25.99,25.99,10.99,14.99,21.99,29.99,13.99,18.99,15.99,14.99,27.99,27.99,17.99,29.99,11.99,17.99,12.99,21.99,19.99,22.99,19.99,22.99,12.99,12.99,23.99,20.99,16.99,20.99,26.99,13.99,14.99,19.99,25.99,23.99,26.99,9.99,13.99,15.99,16.99,9.99,9.99,10.99,19.99,28.99,27.99,19.99,27.99,12.99,22.99,28.99,11.99,24.99,21.99,20.99,13.99,12.99,25.99,9.99,21.99,19.99,28.99,10.99,27.99,22.99,12.99,19.99,27.99,13.99,13.99,9.99,11.99,23.99,25.99,20.99,9.99,13.99,24.99,17.99,11.99,22.99,9.99,28.99,9.99,28.99,14.99,13.99,18.99,11.99,23.99,21.99,10.99,27.99,18.99,14.99,17.99,29.99,22.99,13.99,26.99,10.99,27.99,10.99,11.99,28.99,19.99,14.99,9.99,20.99,13.99,9.99,10.99,24.99,23.99,17.99,16.99,29.99,22.99,12.99,15.99,27.99,11.99,16.99,16.99,21.99,23.99,9.99,21.99,11.99,20.99,17.99,21.99,14.99,14.99,17.99,19.99,10.99,27.99,27.99,29.99,22.99,14.99,16.99,22.99,27.99,12.99,28.99,17.99,9.99,18.99,19.99,23.99,26.99,19.99,10.99,15.99,22.99,18.99,12.99,17.99,28.99,14.99,26.99,19.99,29.99,11.99,11.99,24.99,27.99,24.99,22.99,12.99,25.99,12.99,10.99,12.99,13.99,23.99,18.99,20.99,19.99,24.99,13.99,26.99,22.99,13.99,26.99,17.99,10.99,29.99,11.99,9.99,14.99,10.99,28.99,18.99],\"y0\":\" \",\"yaxis\":\"y\",\"type\":\"box\"}],                        {\"template\":{\"data\":{\"histogram2dcontour\":[{\"type\":\"histogram2dcontour\",\"colorbar\":{\"outlinewidth\":0,\"ticks\":\"\"},\"colorscale\":[[0.0,\"#0d0887\"],[0.1111111111111111,\"#46039f\"],[0.2222222222222222,\"#7201a8\"],[0.3333333333333333,\"#9c179e\"],[0.4444444444444444,\"#bd3786\"],[0.5555555555555556,\"#d8576b\"],[0.6666666666666666,\"#ed7953\"],[0.7777777777777778,\"#fb9f3a\"],[0.8888888888888888,\"#fdca26\"],[1.0,\"#f0f921\"]]}],\"choropleth\":[{\"type\":\"choropleth\",\"colorbar\":{\"outlinewidth\":0,\"ticks\":\"\"}}],\"histogram2d\":[{\"type\":\"histogram2d\",\"colorbar\":{\"outlinewidth\":0,\"ticks\":\"\"},\"colorscale\":[[0.0,\"#0d0887\"],[0.1111111111111111,\"#46039f\"],[0.2222222222222222,\"#7201a8\"],[0.3333333333333333,\"#9c179e\"],[0.4444444444444444,\"#bd3786\"],[0.5555555555555556,\"#d8576b\"],[0.6666666666666666,\"#ed7953\"],[0.7777777777777778,\"#fb9f3a\"],[0.8888888888888888,\"#fdca26\"],[1.0,\"#f0f921\"]]}],\"heatmap\":[{\"type\":\"heatmap\",\"colorbar\":{\"outlinewidth\":0,\"ticks\":\"\"},\"colorscale\":[[0.0,\"#0d0887\"],[0.1111111111111111,\"#46039f\"],[0.2222222222222222,\"#7201a8\"],[0.3333333333333333,\"#9c179e\"],[0.4444444444444444,\"#bd3786\"],[0.5555555555555556,\"#d8576b\"],[0.6666666666666666,\"#ed7953\"],[0.7777777777777778,\"#fb9f3a\"],[0.8888888888888888,\"#fdca26\"],[1.0,\"#f0f921\"]]}],\"heatmapgl\":[{\"type\":\"heatmapgl\",\"colorbar\":{\"outlinewidth\":0,\"ticks\":\"\"},\"colorscale\":[[0.0,\"#0d0887\"],[0.1111111111111111,\"#46039f\"],[0.2222222222222222,\"#7201a8\"],[0.3333333333333333,\"#9c179e\"],[0.4444444444444444,\"#bd3786\"],[0.5555555555555556,\"#d8576b\"],[0.6666666666666666,\"#ed7953\"],[0.7777777777777778,\"#fb9f3a\"],[0.8888888888888888,\"#fdca26\"],[1.0,\"#f0f921\"]]}],\"contourcarpet\":[{\"type\":\"contourcarpet\",\"colorbar\":{\"outlinewidth\":0,\"ticks\":\"\"}}],\"contour\":[{\"type\":\"contour\",\"colorbar\":{\"outlinewidth\":0,\"ticks\":\"\"},\"colorscale\":[[0.0,\"#0d0887\"],[0.1111111111111111,\"#46039f\"],[0.2222222222222222,\"#7201a8\"],[0.3333333333333333,\"#9c179e\"],[0.4444444444444444,\"#bd3786\"],[0.5555555555555556,\"#d8576b\"],[0.6666666666666666,\"#ed7953\"],[0.7777777777777778,\"#fb9f3a\"],[0.8888888888888888,\"#fdca26\"],[1.0,\"#f0f921\"]]}],\"surface\":[{\"type\":\"surface\",\"colorbar\":{\"outlinewidth\":0,\"ticks\":\"\"},\"colorscale\":[[0.0,\"#0d0887\"],[0.1111111111111111,\"#46039f\"],[0.2222222222222222,\"#7201a8\"],[0.3333333333333333,\"#9c179e\"],[0.4444444444444444,\"#bd3786\"],[0.5555555555555556,\"#d8576b\"],[0.6666666666666666,\"#ed7953\"],[0.7777777777777778,\"#fb9f3a\"],[0.8888888888888888,\"#fdca26\"],[1.0,\"#f0f921\"]]}],\"mesh3d\":[{\"type\":\"mesh3d\",\"colorbar\":{\"outlinewidth\":0,\"ticks\":\"\"}}],\"scatter\":[{\"fillpattern\":{\"fillmode\":\"overlay\",\"size\":10,\"solidity\":0.2},\"type\":\"scatter\"}],\"parcoords\":[{\"type\":\"parcoords\",\"line\":{\"colorbar\":{\"outlinewidth\":0,\"ticks\":\"\"}}}],\"scatterpolargl\":[{\"type\":\"scatterpolargl\",\"marker\":{\"colorbar\":{\"outlinewidth\":0,\"ticks\":\"\"}}}],\"bar\":[{\"error_x\":{\"color\":\"#2a3f5f\"},\"error_y\":{\"color\":\"#2a3f5f\"},\"marker\":{\"line\":{\"color\":\"#E5ECF6\",\"width\":0.5},\"pattern\":{\"fillmode\":\"overlay\",\"size\":10,\"solidity\":0.2}},\"type\":\"bar\"}],\"scattergeo\":[{\"type\":\"scattergeo\",\"marker\":{\"colorbar\":{\"outlinewidth\":0,\"ticks\":\"\"}}}],\"scatterpolar\":[{\"type\":\"scatterpolar\",\"marker\":{\"colorbar\":{\"outlinewidth\":0,\"ticks\":\"\"}}}],\"histogram\":[{\"marker\":{\"pattern\":{\"fillmode\":\"overlay\",\"size\":10,\"solidity\":0.2}},\"type\":\"histogram\"}],\"scattergl\":[{\"type\":\"scattergl\",\"marker\":{\"colorbar\":{\"outlinewidth\":0,\"ticks\":\"\"}}}],\"scatter3d\":[{\"type\":\"scatter3d\",\"line\":{\"colorbar\":{\"outlinewidth\":0,\"ticks\":\"\"}},\"marker\":{\"colorbar\":{\"outlinewidth\":0,\"ticks\":\"\"}}}],\"scattermapbox\":[{\"type\":\"scattermapbox\",\"marker\":{\"colorbar\":{\"outlinewidth\":0,\"ticks\":\"\"}}}],\"scatterternary\":[{\"type\":\"scatterternary\",\"marker\":{\"colorbar\":{\"outlinewidth\":0,\"ticks\":\"\"}}}],\"scattercarpet\":[{\"type\":\"scattercarpet\",\"marker\":{\"colorbar\":{\"outlinewidth\":0,\"ticks\":\"\"}}}],\"carpet\":[{\"aaxis\":{\"endlinecolor\":\"#2a3f5f\",\"gridcolor\":\"white\",\"linecolor\":\"white\",\"minorgridcolor\":\"white\",\"startlinecolor\":\"#2a3f5f\"},\"baxis\":{\"endlinecolor\":\"#2a3f5f\",\"gridcolor\":\"white\",\"linecolor\":\"white\",\"minorgridcolor\":\"white\",\"startlinecolor\":\"#2a3f5f\"},\"type\":\"carpet\"}],\"table\":[{\"cells\":{\"fill\":{\"color\":\"#EBF0F8\"},\"line\":{\"color\":\"white\"}},\"header\":{\"fill\":{\"color\":\"#C8D4E3\"},\"line\":{\"color\":\"white\"}},\"type\":\"table\"}],\"barpolar\":[{\"marker\":{\"line\":{\"color\":\"#E5ECF6\",\"width\":0.5},\"pattern\":{\"fillmode\":\"overlay\",\"size\":10,\"solidity\":0.2}},\"type\":\"barpolar\"}],\"pie\":[{\"automargin\":true,\"type\":\"pie\"}]},\"layout\":{\"autotypenumbers\":\"strict\",\"colorway\":[\"#636efa\",\"#EF553B\",\"#00cc96\",\"#ab63fa\",\"#FFA15A\",\"#19d3f3\",\"#FF6692\",\"#B6E880\",\"#FF97FF\",\"#FECB52\"],\"font\":{\"color\":\"#2a3f5f\"},\"hovermode\":\"closest\",\"hoverlabel\":{\"align\":\"left\"},\"paper_bgcolor\":\"white\",\"plot_bgcolor\":\"#E5ECF6\",\"polar\":{\"bgcolor\":\"#E5ECF6\",\"angularaxis\":{\"gridcolor\":\"white\",\"linecolor\":\"white\",\"ticks\":\"\"},\"radialaxis\":{\"gridcolor\":\"white\",\"linecolor\":\"white\",\"ticks\":\"\"}},\"ternary\":{\"bgcolor\":\"#E5ECF6\",\"aaxis\":{\"gridcolor\":\"white\",\"linecolor\":\"white\",\"ticks\":\"\"},\"baxis\":{\"gridcolor\":\"white\",\"linecolor\":\"white\",\"ticks\":\"\"},\"caxis\":{\"gridcolor\":\"white\",\"linecolor\":\"white\",\"ticks\":\"\"}},\"coloraxis\":{\"colorbar\":{\"outlinewidth\":0,\"ticks\":\"\"}},\"colorscale\":{\"sequential\":[[0.0,\"#0d0887\"],[0.1111111111111111,\"#46039f\"],[0.2222222222222222,\"#7201a8\"],[0.3333333333333333,\"#9c179e\"],[0.4444444444444444,\"#bd3786\"],[0.5555555555555556,\"#d8576b\"],[0.6666666666666666,\"#ed7953\"],[0.7777777777777778,\"#fb9f3a\"],[0.8888888888888888,\"#fdca26\"],[1.0,\"#f0f921\"]],\"sequentialminus\":[[0.0,\"#0d0887\"],[0.1111111111111111,\"#46039f\"],[0.2222222222222222,\"#7201a8\"],[0.3333333333333333,\"#9c179e\"],[0.4444444444444444,\"#bd3786\"],[0.5555555555555556,\"#d8576b\"],[0.6666666666666666,\"#ed7953\"],[0.7777777777777778,\"#fb9f3a\"],[0.8888888888888888,\"#fdca26\"],[1.0,\"#f0f921\"]],\"diverging\":[[0,\"#8e0152\"],[0.1,\"#c51b7d\"],[0.2,\"#de77ae\"],[0.3,\"#f1b6da\"],[0.4,\"#fde0ef\"],[0.5,\"#f7f7f7\"],[0.6,\"#e6f5d0\"],[0.7,\"#b8e186\"],[0.8,\"#7fbc41\"],[0.9,\"#4d9221\"],[1,\"#276419\"]]},\"xaxis\":{\"gridcolor\":\"white\",\"linecolor\":\"white\",\"ticks\":\"\",\"title\":{\"standoff\":15},\"zerolinecolor\":\"white\",\"automargin\":true,\"zerolinewidth\":2},\"yaxis\":{\"gridcolor\":\"white\",\"linecolor\":\"white\",\"ticks\":\"\",\"title\":{\"standoff\":15},\"zerolinecolor\":\"white\",\"automargin\":true,\"zerolinewidth\":2},\"scene\":{\"xaxis\":{\"backgroundcolor\":\"#E5ECF6\",\"gridcolor\":\"white\",\"linecolor\":\"white\",\"showbackground\":true,\"ticks\":\"\",\"zerolinecolor\":\"white\",\"gridwidth\":2},\"yaxis\":{\"backgroundcolor\":\"#E5ECF6\",\"gridcolor\":\"white\",\"linecolor\":\"white\",\"showbackground\":true,\"ticks\":\"\",\"zerolinecolor\":\"white\",\"gridwidth\":2},\"zaxis\":{\"backgroundcolor\":\"#E5ECF6\",\"gridcolor\":\"white\",\"linecolor\":\"white\",\"showbackground\":true,\"ticks\":\"\",\"zerolinecolor\":\"white\",\"gridwidth\":2}},\"shapedefaults\":{\"line\":{\"color\":\"#2a3f5f\"}},\"annotationdefaults\":{\"arrowcolor\":\"#2a3f5f\",\"arrowhead\":0,\"arrowwidth\":1},\"geo\":{\"bgcolor\":\"white\",\"landcolor\":\"#E5ECF6\",\"subunitcolor\":\"white\",\"showland\":true,\"showlakes\":true,\"lakecolor\":\"white\"},\"title\":{\"x\":0.05},\"mapbox\":{\"style\":\"light\"}}},\"xaxis\":{\"anchor\":\"y\",\"domain\":[0.0,1.0],\"title\":{\"text\":\"Category Name\"}},\"yaxis\":{\"anchor\":\"x\",\"domain\":[0.0,1.0],\"title\":{\"text\":\"Replacement Cost\"}},\"legend\":{\"tracegroupgap\":0},\"title\":{\"text\":\"Comparative Analysis of Film Replacement Costs Across Genres\"},\"boxmode\":\"group\"},                        {\"responsive\": true}                    ).then(function(){\n",
       "                            \n",
       "var gd = document.getElementById('cd7df70b-2f81-4757-aebd-628db6e9d09a');\n",
       "var x = new MutationObserver(function (mutations, observer) {{\n",
       "        var display = window.getComputedStyle(gd).display;\n",
       "        if (!display || display === 'none') {{\n",
       "            console.log([gd, 'removed!']);\n",
       "            Plotly.purge(gd);\n",
       "            observer.disconnect();\n",
       "        }}\n",
       "}});\n",
       "\n",
       "// Listen for the removal of the full notebook cells\n",
       "var notebookContainer = gd.closest('#notebook-container');\n",
       "if (notebookContainer) {{\n",
       "    x.observe(notebookContainer, {childList: true});\n",
       "}}\n",
       "\n",
       "// Listen for the clearing of the current output cell\n",
       "var outputEl = gd.closest('.output');\n",
       "if (outputEl) {{\n",
       "    x.observe(outputEl, {childList: true});\n",
       "}}\n",
       "\n",
       "                        })                };                });            </script>        </div>"
      ]
     },
     "metadata": {},
     "output_type": "display_data"
    }
   ],
   "source": [
    "px.box(result8, x=\"name\", y=\"replacement_cost\", notched=True, points=\"all\", labels={\"name\": \"Category Name\", \"replacement_cost\": \"Replacement Cost\"}, title=\"Comparative Analysis of Film Replacement Costs Across Genres\")"
   ]
  },
  {
   "cell_type": "markdown",
   "id": "1d1ac0e6",
   "metadata": {
    "papermill": {
     "duration": 0.019898,
     "end_time": "2023-12-21T11:49:04.481712",
     "exception": false,
     "start_time": "2023-12-21T11:49:04.461814",
     "status": "completed"
    },
    "tags": []
   },
   "source": [
    "From the box plot, we can observe several points:\n",
    "\n",
    "- The median replacement cost across most categories seems to be around the \\$20 mark.\n",
    "- There are visible outliers in nearly every category, with some replacement costs reaching up to \\$30 or more, which are significantly higher than the median and even the upper quartile.\n",
    "\n",
    "These observations can help a rental store manage inventory costs and understand the investment needed for different film categories. It might also influence pricing strategies for rentals and purchases, as well as decisions about which genres to stock more heavily based on the potential replacement costs."
   ]
  },
  {
   "cell_type": "markdown",
   "id": "ffc05743",
   "metadata": {
    "papermill": {
     "duration": 0.019936,
     "end_time": "2023-12-21T11:49:04.521590",
     "exception": false,
     "start_time": "2023-12-21T11:49:04.501654",
     "status": "completed"
    },
    "tags": []
   },
   "source": [
    "## Versatility and Popularity of Actors Across Movie Genres"
   ]
  },
  {
   "cell_type": "code",
   "execution_count": 21,
   "id": "95d9fe4d",
   "metadata": {
    "execution": {
     "iopub.execute_input": "2023-12-21T11:49:04.564846Z",
     "iopub.status.busy": "2023-12-21T11:49:04.564115Z",
     "iopub.status.idle": "2023-12-21T11:49:04.622401Z",
     "shell.execute_reply": "2023-12-21T11:49:04.621550Z"
    },
    "papermill": {
     "duration": 0.082422,
     "end_time": "2023-12-21T11:49:04.624751",
     "exception": false,
     "start_time": "2023-12-21T11:49:04.542329",
     "status": "completed"
    },
    "tags": []
   },
   "outputs": [
    {
     "data": {
      "text/html": [
       "<div>\n",
       "<style scoped>\n",
       "    .dataframe tbody tr th:only-of-type {\n",
       "        vertical-align: middle;\n",
       "    }\n",
       "\n",
       "    .dataframe tbody tr th {\n",
       "        vertical-align: top;\n",
       "    }\n",
       "\n",
       "    .dataframe thead th {\n",
       "        text-align: right;\n",
       "    }\n",
       "</style>\n",
       "<table border=\"1\" class=\"dataframe\">\n",
       "  <thead>\n",
       "    <tr style=\"text-align: right;\">\n",
       "      <th></th>\n",
       "      <th>actor_id</th>\n",
       "      <th>first_name</th>\n",
       "      <th>last_name</th>\n",
       "      <th>appearance</th>\n",
       "    </tr>\n",
       "  </thead>\n",
       "  <tbody>\n",
       "    <tr>\n",
       "      <th>0</th>\n",
       "      <td>107</td>\n",
       "      <td>GINA</td>\n",
       "      <td>DEGENERES</td>\n",
       "      <td>42</td>\n",
       "    </tr>\n",
       "    <tr>\n",
       "      <th>1</th>\n",
       "      <td>102</td>\n",
       "      <td>WALTER</td>\n",
       "      <td>TORN</td>\n",
       "      <td>41</td>\n",
       "    </tr>\n",
       "    <tr>\n",
       "      <th>2</th>\n",
       "      <td>198</td>\n",
       "      <td>MARY</td>\n",
       "      <td>KEITEL</td>\n",
       "      <td>40</td>\n",
       "    </tr>\n",
       "    <tr>\n",
       "      <th>3</th>\n",
       "      <td>181</td>\n",
       "      <td>MATTHEW</td>\n",
       "      <td>CARREY</td>\n",
       "      <td>39</td>\n",
       "    </tr>\n",
       "    <tr>\n",
       "      <th>4</th>\n",
       "      <td>23</td>\n",
       "      <td>SANDRA</td>\n",
       "      <td>KILMER</td>\n",
       "      <td>37</td>\n",
       "    </tr>\n",
       "    <tr>\n",
       "      <th>...</th>\n",
       "      <td>...</td>\n",
       "      <td>...</td>\n",
       "      <td>...</td>\n",
       "      <td>...</td>\n",
       "    </tr>\n",
       "    <tr>\n",
       "      <th>195</th>\n",
       "      <td>31</td>\n",
       "      <td>SISSY</td>\n",
       "      <td>SOBIESKI</td>\n",
       "      <td>18</td>\n",
       "    </tr>\n",
       "    <tr>\n",
       "      <th>196</th>\n",
       "      <td>186</td>\n",
       "      <td>JULIA</td>\n",
       "      <td>ZELLWEGER</td>\n",
       "      <td>16</td>\n",
       "    </tr>\n",
       "    <tr>\n",
       "      <th>197</th>\n",
       "      <td>199</td>\n",
       "      <td>JULIA</td>\n",
       "      <td>FAWCETT</td>\n",
       "      <td>15</td>\n",
       "    </tr>\n",
       "    <tr>\n",
       "      <th>198</th>\n",
       "      <td>35</td>\n",
       "      <td>JUDY</td>\n",
       "      <td>DEAN</td>\n",
       "      <td>15</td>\n",
       "    </tr>\n",
       "    <tr>\n",
       "      <th>199</th>\n",
       "      <td>148</td>\n",
       "      <td>EMILY</td>\n",
       "      <td>DEE</td>\n",
       "      <td>14</td>\n",
       "    </tr>\n",
       "  </tbody>\n",
       "</table>\n",
       "<p>200 rows × 4 columns</p>\n",
       "</div>"
      ],
      "text/plain": [
       "     actor_id first_name  last_name  appearance\n",
       "0         107       GINA  DEGENERES          42\n",
       "1         102     WALTER       TORN          41\n",
       "2         198       MARY     KEITEL          40\n",
       "3         181    MATTHEW     CARREY          39\n",
       "4          23     SANDRA     KILMER          37\n",
       "..        ...        ...        ...         ...\n",
       "195        31      SISSY   SOBIESKI          18\n",
       "196       186      JULIA  ZELLWEGER          16\n",
       "197       199      JULIA    FAWCETT          15\n",
       "198        35       JUDY       DEAN          15\n",
       "199       148      EMILY        DEE          14\n",
       "\n",
       "[200 rows x 4 columns]"
      ]
     },
     "execution_count": 21,
     "metadata": {},
     "output_type": "execute_result"
    }
   ],
   "source": [
    "query9 = \"\"\"\n",
    "\n",
    "SELECT a.actor_id, a.first_name, a.last_name, COUNT(*) as appearance\n",
    "FROM film as f\n",
    "JOIN film_actor as fa\n",
    "ON f.film_id = fa.film_id\n",
    "\n",
    "JOIN actor as a\n",
    "ON fa.actor_id = a.actor_id\n",
    "\n",
    "GROUP BY a.actor_id\n",
    "ORDER by appearance desc\n",
    ";\n",
    "\"\"\"\n",
    "result9 = pd.read_sql_query(query9, conn)\n",
    "result9"
   ]
  },
  {
   "cell_type": "code",
   "execution_count": 22,
   "id": "61b968bc",
   "metadata": {
    "execution": {
     "iopub.execute_input": "2023-12-21T11:49:04.667681Z",
     "iopub.status.busy": "2023-12-21T11:49:04.667037Z",
     "iopub.status.idle": "2023-12-21T11:49:04.679213Z",
     "shell.execute_reply": "2023-12-21T11:49:04.678092Z"
    },
    "papermill": {
     "duration": 0.036776,
     "end_time": "2023-12-21T11:49:04.681961",
     "exception": false,
     "start_time": "2023-12-21T11:49:04.645185",
     "status": "completed"
    },
    "tags": []
   },
   "outputs": [
    {
     "data": {
      "text/html": [
       "<div>\n",
       "<style scoped>\n",
       "    .dataframe tbody tr th:only-of-type {\n",
       "        vertical-align: middle;\n",
       "    }\n",
       "\n",
       "    .dataframe tbody tr th {\n",
       "        vertical-align: top;\n",
       "    }\n",
       "\n",
       "    .dataframe thead th {\n",
       "        text-align: right;\n",
       "    }\n",
       "</style>\n",
       "<table border=\"1\" class=\"dataframe\">\n",
       "  <thead>\n",
       "    <tr style=\"text-align: right;\">\n",
       "      <th></th>\n",
       "      <th>numCatTotal</th>\n",
       "    </tr>\n",
       "  </thead>\n",
       "  <tbody>\n",
       "    <tr>\n",
       "      <th>0</th>\n",
       "      <td>16</td>\n",
       "    </tr>\n",
       "  </tbody>\n",
       "</table>\n",
       "</div>"
      ],
      "text/plain": [
       "   numCatTotal\n",
       "0           16"
      ]
     },
     "execution_count": 22,
     "metadata": {},
     "output_type": "execute_result"
    }
   ],
   "source": [
    "query10 = \"\"\"\n",
    "\n",
    "SELECT COUNT(DISTINCT name) as numCatTotal\n",
    "FROM category\n",
    ";\n",
    "\"\"\"\n",
    "result10 = pd.read_sql_query(query10, conn)\n",
    "result10"
   ]
  },
  {
   "cell_type": "code",
   "execution_count": 23,
   "id": "b5846f29",
   "metadata": {
    "execution": {
     "iopub.execute_input": "2023-12-21T11:49:04.725595Z",
     "iopub.status.busy": "2023-12-21T11:49:04.724877Z",
     "iopub.status.idle": "2023-12-21T11:49:04.794911Z",
     "shell.execute_reply": "2023-12-21T11:49:04.793818Z"
    },
    "papermill": {
     "duration": 0.094447,
     "end_time": "2023-12-21T11:49:04.797255",
     "exception": false,
     "start_time": "2023-12-21T11:49:04.702808",
     "status": "completed"
    },
    "tags": []
   },
   "outputs": [
    {
     "data": {
      "text/html": [
       "<div>\n",
       "<style scoped>\n",
       "    .dataframe tbody tr th:only-of-type {\n",
       "        vertical-align: middle;\n",
       "    }\n",
       "\n",
       "    .dataframe tbody tr th {\n",
       "        vertical-align: top;\n",
       "    }\n",
       "\n",
       "    .dataframe thead th {\n",
       "        text-align: right;\n",
       "    }\n",
       "</style>\n",
       "<table border=\"1\" class=\"dataframe\">\n",
       "  <thead>\n",
       "    <tr style=\"text-align: right;\">\n",
       "      <th></th>\n",
       "      <th>actor_id</th>\n",
       "      <th>first_name</th>\n",
       "      <th>last_name</th>\n",
       "      <th>numMovieAppearance</th>\n",
       "      <th>numCatAppearance</th>\n",
       "    </tr>\n",
       "  </thead>\n",
       "  <tbody>\n",
       "    <tr>\n",
       "      <th>0</th>\n",
       "      <td>107</td>\n",
       "      <td>GINA</td>\n",
       "      <td>DEGENERES</td>\n",
       "      <td>42</td>\n",
       "      <td>16</td>\n",
       "    </tr>\n",
       "    <tr>\n",
       "      <th>1</th>\n",
       "      <td>102</td>\n",
       "      <td>WALTER</td>\n",
       "      <td>TORN</td>\n",
       "      <td>41</td>\n",
       "      <td>14</td>\n",
       "    </tr>\n",
       "    <tr>\n",
       "      <th>2</th>\n",
       "      <td>198</td>\n",
       "      <td>MARY</td>\n",
       "      <td>KEITEL</td>\n",
       "      <td>40</td>\n",
       "      <td>15</td>\n",
       "    </tr>\n",
       "    <tr>\n",
       "      <th>3</th>\n",
       "      <td>181</td>\n",
       "      <td>MATTHEW</td>\n",
       "      <td>CARREY</td>\n",
       "      <td>39</td>\n",
       "      <td>15</td>\n",
       "    </tr>\n",
       "    <tr>\n",
       "      <th>4</th>\n",
       "      <td>23</td>\n",
       "      <td>SANDRA</td>\n",
       "      <td>KILMER</td>\n",
       "      <td>37</td>\n",
       "      <td>15</td>\n",
       "    </tr>\n",
       "    <tr>\n",
       "      <th>...</th>\n",
       "      <td>...</td>\n",
       "      <td>...</td>\n",
       "      <td>...</td>\n",
       "      <td>...</td>\n",
       "      <td>...</td>\n",
       "    </tr>\n",
       "    <tr>\n",
       "      <th>195</th>\n",
       "      <td>31</td>\n",
       "      <td>SISSY</td>\n",
       "      <td>SOBIESKI</td>\n",
       "      <td>18</td>\n",
       "      <td>10</td>\n",
       "    </tr>\n",
       "    <tr>\n",
       "      <th>196</th>\n",
       "      <td>186</td>\n",
       "      <td>JULIA</td>\n",
       "      <td>ZELLWEGER</td>\n",
       "      <td>16</td>\n",
       "      <td>10</td>\n",
       "    </tr>\n",
       "    <tr>\n",
       "      <th>197</th>\n",
       "      <td>199</td>\n",
       "      <td>JULIA</td>\n",
       "      <td>FAWCETT</td>\n",
       "      <td>15</td>\n",
       "      <td>8</td>\n",
       "    </tr>\n",
       "    <tr>\n",
       "      <th>198</th>\n",
       "      <td>35</td>\n",
       "      <td>JUDY</td>\n",
       "      <td>DEAN</td>\n",
       "      <td>15</td>\n",
       "      <td>8</td>\n",
       "    </tr>\n",
       "    <tr>\n",
       "      <th>199</th>\n",
       "      <td>148</td>\n",
       "      <td>EMILY</td>\n",
       "      <td>DEE</td>\n",
       "      <td>14</td>\n",
       "      <td>9</td>\n",
       "    </tr>\n",
       "  </tbody>\n",
       "</table>\n",
       "<p>200 rows × 5 columns</p>\n",
       "</div>"
      ],
      "text/plain": [
       "     actor_id first_name  last_name  numMovieAppearance  numCatAppearance\n",
       "0         107       GINA  DEGENERES                  42                16\n",
       "1         102     WALTER       TORN                  41                14\n",
       "2         198       MARY     KEITEL                  40                15\n",
       "3         181    MATTHEW     CARREY                  39                15\n",
       "4          23     SANDRA     KILMER                  37                15\n",
       "..        ...        ...        ...                 ...               ...\n",
       "195        31      SISSY   SOBIESKI                  18                10\n",
       "196       186      JULIA  ZELLWEGER                  16                10\n",
       "197       199      JULIA    FAWCETT                  15                 8\n",
       "198        35       JUDY       DEAN                  15                 8\n",
       "199       148      EMILY        DEE                  14                 9\n",
       "\n",
       "[200 rows x 5 columns]"
      ]
     },
     "execution_count": 23,
     "metadata": {},
     "output_type": "execute_result"
    }
   ],
   "source": [
    "query11 = \"\"\"\n",
    "\n",
    "SELECT a.actor_id, a.first_name, a.last_name, COUNT(*) as numMovieAppearance, COUNT(DISTINCT c.name) as numCatAppearance\n",
    "\n",
    "FROM film as f\n",
    "JOIN film_actor as fa \n",
    "JOIN actor as a\n",
    "JOIN film_category as fc\n",
    "JOIN category as c\n",
    "\n",
    "ON f.film_id = fa.film_id\n",
    "AND fa.actor_id = a.actor_id\n",
    "AND f.film_id = fc.film_id\n",
    "AND fc.category_id = c.category_id\n",
    "\n",
    "GROUP BY a.actor_id\n",
    "ORDER by numMovieAppearance desc\n",
    "\n",
    ";\n",
    "\"\"\"\n",
    "result11 = pd.read_sql_query(query11, conn)\n",
    "result11"
   ]
  },
  {
   "cell_type": "code",
   "execution_count": 24,
   "id": "37ad2bd7",
   "metadata": {
    "execution": {
     "iopub.execute_input": "2023-12-21T11:49:04.840701Z",
     "iopub.status.busy": "2023-12-21T11:49:04.840287Z",
     "iopub.status.idle": "2023-12-21T11:49:04.867361Z",
     "shell.execute_reply": "2023-12-21T11:49:04.866548Z"
    },
    "papermill": {
     "duration": 0.051382,
     "end_time": "2023-12-21T11:49:04.869451",
     "exception": false,
     "start_time": "2023-12-21T11:49:04.818069",
     "status": "completed"
    },
    "tags": []
   },
   "outputs": [
    {
     "data": {
      "text/html": [
       "<div>\n",
       "<style scoped>\n",
       "    .dataframe tbody tr th:only-of-type {\n",
       "        vertical-align: middle;\n",
       "    }\n",
       "\n",
       "    .dataframe tbody tr th {\n",
       "        vertical-align: top;\n",
       "    }\n",
       "\n",
       "    .dataframe thead th {\n",
       "        text-align: right;\n",
       "    }\n",
       "</style>\n",
       "<table border=\"1\" class=\"dataframe\">\n",
       "  <thead>\n",
       "    <tr style=\"text-align: right;\">\n",
       "      <th></th>\n",
       "      <th>actor_id</th>\n",
       "      <th>first_name</th>\n",
       "      <th>last_name</th>\n",
       "      <th>numMovieAppearance</th>\n",
       "      <th>numCatAppearance</th>\n",
       "    </tr>\n",
       "  </thead>\n",
       "  <tbody>\n",
       "    <tr>\n",
       "      <th>0</th>\n",
       "      <td>107</td>\n",
       "      <td>GINA</td>\n",
       "      <td>DEGENERES</td>\n",
       "      <td>42</td>\n",
       "      <td>16</td>\n",
       "    </tr>\n",
       "    <tr>\n",
       "      <th>1</th>\n",
       "      <td>106</td>\n",
       "      <td>GROUCHO</td>\n",
       "      <td>DUNST</td>\n",
       "      <td>35</td>\n",
       "      <td>16</td>\n",
       "    </tr>\n",
       "    <tr>\n",
       "      <th>2</th>\n",
       "      <td>13</td>\n",
       "      <td>UMA</td>\n",
       "      <td>WOOD</td>\n",
       "      <td>35</td>\n",
       "      <td>16</td>\n",
       "    </tr>\n",
       "    <tr>\n",
       "      <th>3</th>\n",
       "      <td>197</td>\n",
       "      <td>REESE</td>\n",
       "      <td>WEST</td>\n",
       "      <td>33</td>\n",
       "      <td>16</td>\n",
       "    </tr>\n",
       "    <tr>\n",
       "      <th>4</th>\n",
       "      <td>139</td>\n",
       "      <td>EWAN</td>\n",
       "      <td>GOODING</td>\n",
       "      <td>33</td>\n",
       "      <td>16</td>\n",
       "    </tr>\n",
       "    <tr>\n",
       "      <th>5</th>\n",
       "      <td>127</td>\n",
       "      <td>KEVIN</td>\n",
       "      <td>GARLAND</td>\n",
       "      <td>33</td>\n",
       "      <td>16</td>\n",
       "    </tr>\n",
       "    <tr>\n",
       "      <th>6</th>\n",
       "      <td>161</td>\n",
       "      <td>HARVEY</td>\n",
       "      <td>HOPE</td>\n",
       "      <td>32</td>\n",
       "      <td>16</td>\n",
       "    </tr>\n",
       "    <tr>\n",
       "      <th>7</th>\n",
       "      <td>155</td>\n",
       "      <td>IAN</td>\n",
       "      <td>TANDY</td>\n",
       "      <td>31</td>\n",
       "      <td>16</td>\n",
       "    </tr>\n",
       "    <tr>\n",
       "      <th>8</th>\n",
       "      <td>95</td>\n",
       "      <td>DARYL</td>\n",
       "      <td>WAHLBERG</td>\n",
       "      <td>31</td>\n",
       "      <td>16</td>\n",
       "    </tr>\n",
       "    <tr>\n",
       "      <th>9</th>\n",
       "      <td>185</td>\n",
       "      <td>MICHAEL</td>\n",
       "      <td>BOLGER</td>\n",
       "      <td>30</td>\n",
       "      <td>16</td>\n",
       "    </tr>\n",
       "    <tr>\n",
       "      <th>10</th>\n",
       "      <td>72</td>\n",
       "      <td>SEAN</td>\n",
       "      <td>WILLIAMS</td>\n",
       "      <td>26</td>\n",
       "      <td>16</td>\n",
       "    </tr>\n",
       "  </tbody>\n",
       "</table>\n",
       "</div>"
      ],
      "text/plain": [
       "    actor_id first_name  last_name  numMovieAppearance  numCatAppearance\n",
       "0        107       GINA  DEGENERES                  42                16\n",
       "1        106    GROUCHO      DUNST                  35                16\n",
       "2         13        UMA       WOOD                  35                16\n",
       "3        197      REESE       WEST                  33                16\n",
       "4        139       EWAN    GOODING                  33                16\n",
       "5        127      KEVIN    GARLAND                  33                16\n",
       "6        161     HARVEY       HOPE                  32                16\n",
       "7        155        IAN      TANDY                  31                16\n",
       "8         95      DARYL   WAHLBERG                  31                16\n",
       "9        185    MICHAEL     BOLGER                  30                16\n",
       "10        72       SEAN   WILLIAMS                  26                16"
      ]
     },
     "execution_count": 24,
     "metadata": {},
     "output_type": "execute_result"
    }
   ],
   "source": [
    "query12 = \"\"\"\n",
    "\n",
    "SELECT a.actor_id, a.first_name, a.last_name, COUNT(*) as numMovieAppearance, COUNT(DISTINCT c.name) as numCatAppearance\n",
    "\n",
    "FROM film as f\n",
    "JOIN film_actor as fa \n",
    "JOIN actor as a\n",
    "JOIN film_category as fc\n",
    "JOIN category as c\n",
    "\n",
    "ON f.film_id = fa.film_id\n",
    "AND fa.actor_id = a.actor_id\n",
    "AND f.film_id = fc.film_id\n",
    "AND fc.category_id = c.category_id\n",
    "\n",
    "GROUP BY a.actor_id\n",
    "HAVING numCatAppearance = (SELECT COUNT(DISTINCT name) as numCatTotal\n",
    "FROM category)\n",
    "ORDER by numMovieAppearance desc\n",
    "\n",
    ";\n",
    "\"\"\"\n",
    "result12 = pd.read_sql_query(query12, conn)\n",
    "result12"
   ]
  },
  {
   "cell_type": "markdown",
   "id": "4e7ac444",
   "metadata": {
    "papermill": {
     "duration": 0.021001,
     "end_time": "2023-12-21T11:49:04.911788",
     "exception": false,
     "start_time": "2023-12-21T11:49:04.890787",
     "status": "completed"
    },
    "tags": []
   },
   "source": [
    "GINA DEGENERES leads the list with 42 movie appearances across all 16 categories, suggesting she is the most versatile and possibly the most sought-after actor in this database."
   ]
  },
  {
   "cell_type": "markdown",
   "id": "72ae2ff5",
   "metadata": {
    "papermill": {
     "duration": 0.021039,
     "end_time": "2023-12-21T11:49:04.953995",
     "exception": false,
     "start_time": "2023-12-21T11:49:04.932956",
     "status": "completed"
    },
    "tags": []
   },
   "source": [
    "# Conclusion\n",
    "\n",
    "This project is not just about analyzing data but is primarily a step towards mastering the basics of SQL. The insights from the DVD rental store's data will serve as a backdrop for this learning journey, providing practical examples and applications of SQL queries and data analysis."
   ]
  }
 ],
 "metadata": {
  "kaggle": {
   "accelerator": "none",
   "dataSources": [
    {
     "datasetId": 1210698,
     "sourceId": 2022748,
     "sourceType": "datasetVersion"
    },
    {
     "datasetId": 4203447,
     "sourceId": 7254299,
     "sourceType": "datasetVersion"
    }
   ],
   "dockerImageVersionId": 30626,
   "isGpuEnabled": false,
   "isInternetEnabled": true,
   "language": "python",
   "sourceType": "notebook"
  },
  "kernelspec": {
   "display_name": "Python 3",
   "language": "python",
   "name": "python3"
  },
  "language_info": {
   "codemirror_mode": {
    "name": "ipython",
    "version": 3
   },
   "file_extension": ".py",
   "mimetype": "text/x-python",
   "name": "python",
   "nbconvert_exporter": "python",
   "pygments_lexer": "ipython3",
   "version": "3.10.12"
  },
  "papermill": {
   "default_parameters": {},
   "duration": 16.092018,
   "end_time": "2023-12-21T11:49:05.696838",
   "environment_variables": {},
   "exception": null,
   "input_path": "__notebook__.ipynb",
   "output_path": "__notebook__.ipynb",
   "parameters": {},
   "start_time": "2023-12-21T11:48:49.604820",
   "version": "2.4.0"
  }
 },
 "nbformat": 4,
 "nbformat_minor": 5
}
